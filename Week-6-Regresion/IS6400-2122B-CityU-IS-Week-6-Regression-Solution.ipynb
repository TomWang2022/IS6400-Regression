{
 "cells": [
  {
   "cell_type": "markdown",
   "id": "economic-contrary",
   "metadata": {},
   "source": [
    "IS6400 21/22 Semester B\n",
    "\n",
    "- Week 6: Regression (Solution to in-class exercise)\n",
    "\n",
    "Zhiya Zuo (zhiyazuo@cityu.edu.hk)\n",
    "\n",
    "Department of Information Systems\n",
    "\n",
    "City University of Hong Kong"
   ]
  },
  {
   "cell_type": "markdown",
   "id": "prospective-amendment",
   "metadata": {},
   "source": [
    "---"
   ]
  },
  {
   "cell_type": "code",
   "execution_count": 1,
   "id": "republican-phenomenon",
   "metadata": {
    "ExecuteTime": {
     "end_time": "2022-02-18T09:31:11.093033Z",
     "start_time": "2022-02-18T09:31:11.085102Z"
    }
   },
   "outputs": [],
   "source": [
    "import warnings\n",
    "from itertools import combinations, product"
   ]
  },
  {
   "cell_type": "code",
   "execution_count": 2,
   "id": "freelance-batch",
   "metadata": {
    "ExecuteTime": {
     "end_time": "2022-02-18T09:31:11.675359Z",
     "start_time": "2022-02-18T09:31:11.095431Z"
    }
   },
   "outputs": [],
   "source": [
    "import numpy as np\n",
    "from scipy import stats as SP_STATS\n",
    "import pandas as pd"
   ]
  },
  {
   "cell_type": "code",
   "execution_count": 3,
   "id": "patent-foundation",
   "metadata": {
    "ExecuteTime": {
     "end_time": "2022-02-18T09:31:11.910648Z",
     "start_time": "2022-02-18T09:31:11.676810Z"
    }
   },
   "outputs": [],
   "source": [
    "from sklearn import linear_model\n",
    "from sklearn import gaussian_process as SK_GP\n",
    "from sklearn import metrics\n",
    "from sklearn.model_selection import KFold"
   ]
  },
  {
   "cell_type": "code",
   "execution_count": 4,
   "id": "decent-accordance",
   "metadata": {
    "ExecuteTime": {
     "end_time": "2022-02-18T09:31:12.201679Z",
     "start_time": "2022-02-18T09:31:11.913691Z"
    }
   },
   "outputs": [],
   "source": [
    "import seaborn as sns\n",
    "from matplotlib import pyplot as plt\n",
    "from matplotlib import cm\n",
    "#%matplotlib notebook\n",
    "%matplotlib inline"
   ]
  },
  {
   "cell_type": "markdown",
   "id": "treated-playing",
   "metadata": {},
   "source": [
    "---"
   ]
  },
  {
   "cell_type": "markdown",
   "id": "cognitive-contact",
   "metadata": {},
   "source": [
    "# The question"
   ]
  },
  {
   "cell_type": "markdown",
   "id": "operational-tsunami",
   "metadata": {},
   "source": [
    "Please use the [insurance charge data](https://www.kaggle.com/mirichoi0218/insurance) for multivariate regression using:\n",
    "1. Linear regression without regularization\n",
    "2. Linear regression with L2 norm regulariaztion (ridge regression)\n",
    "3. Gaussian Process regression.\n",
    "\n",
    "You are expected to:\n",
    "- Use mean square error (MSE) as the evaluation metric.\n",
    "- Hold out a random set of 20% data as the test set.\n",
    "- Apply a 5-fold cross validation with the remaining data.\n",
    "- Summarize the prediction results (both errors on the training and testing data)."
   ]
  },
  {
   "cell_type": "markdown",
   "id": "happy-gabriel",
   "metadata": {},
   "source": [
    "---"
   ]
  },
  {
   "cell_type": "markdown",
   "id": "subsequent-alarm",
   "metadata": {},
   "source": [
    "# Check out the data"
   ]
  },
  {
   "cell_type": "markdown",
   "id": "infrared-hypothetical",
   "metadata": {},
   "source": [
    "Whenever we do data analysis, the first step is always to check out the data instead of directly going into the analysis."
   ]
  },
  {
   "cell_type": "code",
   "execution_count": 5,
   "id": "transparent-harmony",
   "metadata": {
    "ExecuteTime": {
     "end_time": "2022-02-18T09:31:12.220042Z",
     "start_time": "2022-02-18T09:31:12.203627Z"
    }
   },
   "outputs": [
    {
     "data": {
      "text/html": [
       "<div>\n",
       "<style scoped>\n",
       "    .dataframe tbody tr th:only-of-type {\n",
       "        vertical-align: middle;\n",
       "    }\n",
       "\n",
       "    .dataframe tbody tr th {\n",
       "        vertical-align: top;\n",
       "    }\n",
       "\n",
       "    .dataframe thead th {\n",
       "        text-align: right;\n",
       "    }\n",
       "</style>\n",
       "<table border=\"1\" class=\"dataframe\">\n",
       "  <thead>\n",
       "    <tr style=\"text-align: right;\">\n",
       "      <th></th>\n",
       "      <th>age</th>\n",
       "      <th>sex</th>\n",
       "      <th>bmi</th>\n",
       "      <th>children</th>\n",
       "      <th>smoker</th>\n",
       "      <th>region</th>\n",
       "      <th>charges</th>\n",
       "    </tr>\n",
       "  </thead>\n",
       "  <tbody>\n",
       "    <tr>\n",
       "      <th>0</th>\n",
       "      <td>19</td>\n",
       "      <td>female</td>\n",
       "      <td>27.90</td>\n",
       "      <td>0</td>\n",
       "      <td>yes</td>\n",
       "      <td>southwest</td>\n",
       "      <td>16884.9240</td>\n",
       "    </tr>\n",
       "    <tr>\n",
       "      <th>1</th>\n",
       "      <td>18</td>\n",
       "      <td>male</td>\n",
       "      <td>33.77</td>\n",
       "      <td>1</td>\n",
       "      <td>no</td>\n",
       "      <td>southeast</td>\n",
       "      <td>1725.5523</td>\n",
       "    </tr>\n",
       "  </tbody>\n",
       "</table>\n",
       "</div>"
      ],
      "text/plain": [
       "   age     sex    bmi  children smoker     region     charges\n",
       "0   19  female  27.90         0    yes  southwest  16884.9240\n",
       "1   18    male  33.77         1     no  southeast   1725.5523"
      ]
     },
     "execution_count": 5,
     "metadata": {},
     "output_type": "execute_result"
    }
   ],
   "source": [
    "data = pd.read_csv('Data/insurance.csv')\n",
    "data.head(2)"
   ]
  },
  {
   "cell_type": "markdown",
   "id": "accredited-zealand",
   "metadata": {},
   "source": [
    "Drop the region column for simplicity"
   ]
  },
  {
   "cell_type": "code",
   "execution_count": 6,
   "id": "blond-bryan",
   "metadata": {
    "ExecuteTime": {
     "end_time": "2022-02-18T09:31:12.225705Z",
     "start_time": "2022-02-18T09:31:12.221995Z"
    }
   },
   "outputs": [],
   "source": [
    "data.drop(columns=['region'], inplace=True)"
   ]
  },
  {
   "cell_type": "markdown",
   "id": "personalized-rabbit",
   "metadata": {},
   "source": [
    "Convert `sex` and `smoker` from text into binary variables"
   ]
  },
  {
   "cell_type": "code",
   "execution_count": 7,
   "id": "certified-story",
   "metadata": {
    "ExecuteTime": {
     "end_time": "2022-02-18T09:31:12.231583Z",
     "start_time": "2022-02-18T09:31:12.227138Z"
    }
   },
   "outputs": [
    {
     "data": {
      "text/plain": [
       "array(['female', 'male'], dtype=object)"
      ]
     },
     "execution_count": 7,
     "metadata": {},
     "output_type": "execute_result"
    }
   ],
   "source": [
    "data['sex'].unique()"
   ]
  },
  {
   "cell_type": "code",
   "execution_count": 8,
   "id": "maritime-principle",
   "metadata": {
    "ExecuteTime": {
     "end_time": "2022-02-18T09:31:12.237583Z",
     "start_time": "2022-02-18T09:31:12.233264Z"
    }
   },
   "outputs": [],
   "source": [
    "data['sex'] = data['sex'].map({'female': 1, 'male': 0})"
   ]
  },
  {
   "cell_type": "code",
   "execution_count": 9,
   "id": "floppy-possibility",
   "metadata": {
    "ExecuteTime": {
     "end_time": "2022-02-18T09:31:12.243210Z",
     "start_time": "2022-02-18T09:31:12.239396Z"
    }
   },
   "outputs": [
    {
     "data": {
      "text/plain": [
       "array(['yes', 'no'], dtype=object)"
      ]
     },
     "execution_count": 9,
     "metadata": {},
     "output_type": "execute_result"
    }
   ],
   "source": [
    "data['smoker'].unique()"
   ]
  },
  {
   "cell_type": "code",
   "execution_count": 10,
   "id": "precious-brush",
   "metadata": {
    "ExecuteTime": {
     "end_time": "2022-02-18T09:31:12.250050Z",
     "start_time": "2022-02-18T09:31:12.246711Z"
    }
   },
   "outputs": [],
   "source": [
    "data['smoker'] = data['smoker'].map({'yes': 1, 'no': 0})"
   ]
  },
  {
   "cell_type": "markdown",
   "id": "disturbed-petroleum",
   "metadata": {},
   "source": [
    "Check if any missing values"
   ]
  },
  {
   "cell_type": "code",
   "execution_count": 11,
   "id": "funded-moldova",
   "metadata": {
    "ExecuteTime": {
     "end_time": "2022-02-18T09:31:12.256143Z",
     "start_time": "2022-02-18T09:31:12.251490Z"
    }
   },
   "outputs": [
    {
     "data": {
      "text/plain": [
       "age         0\n",
       "sex         0\n",
       "bmi         0\n",
       "children    0\n",
       "smoker      0\n",
       "charges     0\n",
       "dtype: int64"
      ]
     },
     "execution_count": 11,
     "metadata": {},
     "output_type": "execute_result"
    }
   ],
   "source": [
    "data.isnull().sum()"
   ]
  },
  {
   "cell_type": "markdown",
   "id": "national-broadcast",
   "metadata": {},
   "source": [
    "Check out the distribution in case there is any outlier."
   ]
  },
  {
   "cell_type": "code",
   "execution_count": 12,
   "id": "characteristic-stake",
   "metadata": {
    "ExecuteTime": {
     "end_time": "2022-02-18T09:31:12.279192Z",
     "start_time": "2022-02-18T09:31:12.257471Z"
    }
   },
   "outputs": [
    {
     "data": {
      "text/html": [
       "<div>\n",
       "<style scoped>\n",
       "    .dataframe tbody tr th:only-of-type {\n",
       "        vertical-align: middle;\n",
       "    }\n",
       "\n",
       "    .dataframe tbody tr th {\n",
       "        vertical-align: top;\n",
       "    }\n",
       "\n",
       "    .dataframe thead th {\n",
       "        text-align: right;\n",
       "    }\n",
       "</style>\n",
       "<table border=\"1\" class=\"dataframe\">\n",
       "  <thead>\n",
       "    <tr style=\"text-align: right;\">\n",
       "      <th></th>\n",
       "      <th>age</th>\n",
       "      <th>sex</th>\n",
       "      <th>bmi</th>\n",
       "      <th>children</th>\n",
       "      <th>smoker</th>\n",
       "      <th>charges</th>\n",
       "    </tr>\n",
       "  </thead>\n",
       "  <tbody>\n",
       "    <tr>\n",
       "      <th>count</th>\n",
       "      <td>1338.000</td>\n",
       "      <td>1338.000</td>\n",
       "      <td>1338.000</td>\n",
       "      <td>1338.000</td>\n",
       "      <td>1338.000</td>\n",
       "      <td>1338.000</td>\n",
       "    </tr>\n",
       "    <tr>\n",
       "      <th>mean</th>\n",
       "      <td>39.207</td>\n",
       "      <td>0.495</td>\n",
       "      <td>30.663</td>\n",
       "      <td>1.095</td>\n",
       "      <td>0.205</td>\n",
       "      <td>13270.422</td>\n",
       "    </tr>\n",
       "    <tr>\n",
       "      <th>std</th>\n",
       "      <td>14.050</td>\n",
       "      <td>0.500</td>\n",
       "      <td>6.098</td>\n",
       "      <td>1.205</td>\n",
       "      <td>0.404</td>\n",
       "      <td>12110.011</td>\n",
       "    </tr>\n",
       "    <tr>\n",
       "      <th>min</th>\n",
       "      <td>18.000</td>\n",
       "      <td>0.000</td>\n",
       "      <td>15.960</td>\n",
       "      <td>0.000</td>\n",
       "      <td>0.000</td>\n",
       "      <td>1121.874</td>\n",
       "    </tr>\n",
       "    <tr>\n",
       "      <th>25%</th>\n",
       "      <td>27.000</td>\n",
       "      <td>0.000</td>\n",
       "      <td>26.296</td>\n",
       "      <td>0.000</td>\n",
       "      <td>0.000</td>\n",
       "      <td>4740.287</td>\n",
       "    </tr>\n",
       "    <tr>\n",
       "      <th>50%</th>\n",
       "      <td>39.000</td>\n",
       "      <td>0.000</td>\n",
       "      <td>30.400</td>\n",
       "      <td>1.000</td>\n",
       "      <td>0.000</td>\n",
       "      <td>9382.033</td>\n",
       "    </tr>\n",
       "    <tr>\n",
       "      <th>75%</th>\n",
       "      <td>51.000</td>\n",
       "      <td>1.000</td>\n",
       "      <td>34.694</td>\n",
       "      <td>2.000</td>\n",
       "      <td>0.000</td>\n",
       "      <td>16639.913</td>\n",
       "    </tr>\n",
       "    <tr>\n",
       "      <th>max</th>\n",
       "      <td>64.000</td>\n",
       "      <td>1.000</td>\n",
       "      <td>53.130</td>\n",
       "      <td>5.000</td>\n",
       "      <td>1.000</td>\n",
       "      <td>63770.428</td>\n",
       "    </tr>\n",
       "  </tbody>\n",
       "</table>\n",
       "</div>"
      ],
      "text/plain": [
       "            age       sex       bmi  children    smoker    charges\n",
       "count  1338.000  1338.000  1338.000  1338.000  1338.000   1338.000\n",
       "mean     39.207     0.495    30.663     1.095     0.205  13270.422\n",
       "std      14.050     0.500     6.098     1.205     0.404  12110.011\n",
       "min      18.000     0.000    15.960     0.000     0.000   1121.874\n",
       "25%      27.000     0.000    26.296     0.000     0.000   4740.287\n",
       "50%      39.000     0.000    30.400     1.000     0.000   9382.033\n",
       "75%      51.000     1.000    34.694     2.000     0.000  16639.913\n",
       "max      64.000     1.000    53.130     5.000     1.000  63770.428"
      ]
     },
     "execution_count": 12,
     "metadata": {},
     "output_type": "execute_result"
    }
   ],
   "source": [
    "data.describe().round(3)"
   ]
  },
  {
   "cell_type": "markdown",
   "id": "missing-clinton",
   "metadata": {},
   "source": [
    "Given the small number of features, you could also visualize them"
   ]
  },
  {
   "cell_type": "code",
   "execution_count": 13,
   "id": "apparent-hopkins",
   "metadata": {
    "ExecuteTime": {
     "end_time": "2022-02-18T09:31:13.148213Z",
     "start_time": "2022-02-18T09:31:12.280536Z"
    }
   },
   "outputs": [
    {
     "data": {
      "image/png": "[encoded data removed]",
      "text/plain": [
       "<Figure size 864x504 with 6 Axes>"
      ]
     },
     "metadata": {
      "needs_background": "light"
     },
     "output_type": "display_data"
    }
   ],
   "source": [
    "num_rows, num_cols = 2, 3\n",
    "figsize = [num_cols*4, num_rows*3.5]\n",
    "fig, ax_arr = plt.subplots(figsize=figsize,\n",
    "                           nrows=num_rows, ncols=num_cols)\n",
    "for i, col in enumerate(data.columns):\n",
    "    ax = ax_arr.flat[i]\n",
    "    sns.histplot(data.loc[:, col], ax=ax, color='k')\n",
    "fig.tight_layout()"
   ]
  },
  {
   "cell_type": "markdown",
   "id": "artificial-mercury",
   "metadata": {},
   "source": [
    "We may try convert the target variable `charges` using a log transformaiton to make it more balanced."
   ]
  },
  {
   "cell_type": "code",
   "execution_count": 14,
   "id": "bright-prisoner",
   "metadata": {
    "ExecuteTime": {
     "end_time": "2022-02-18T09:31:13.153923Z",
     "start_time": "2022-02-18T09:31:13.150521Z"
    }
   },
   "outputs": [],
   "source": [
    "data['charges'] = np.log(data['charges'])"
   ]
  },
  {
   "cell_type": "code",
   "execution_count": 15,
   "id": "selective-referral",
   "metadata": {
    "ExecuteTime": {
     "end_time": "2022-02-18T09:31:13.305614Z",
     "start_time": "2022-02-18T09:31:13.156000Z"
    }
   },
   "outputs": [
    {
     "data": {
      "text/plain": [
       "<AxesSubplot:xlabel='charges', ylabel='Count'>"
      ]
     },
     "execution_count": 15,
     "metadata": {},
     "output_type": "execute_result"
    },
    {
     "data": {
      "image/png": "[encoded data removed]",
      "text/plain": [
       "<Figure size 432x288 with 1 Axes>"
      ]
     },
     "metadata": {
      "needs_background": "light"
     },
     "output_type": "display_data"
    }
   ],
   "source": [
    "fig, ax = plt.subplots(figsize=[6, 4])\n",
    "sns.histplot(data['charges'], ax=ax, color='k')"
   ]
  },
  {
   "cell_type": "markdown",
   "id": "metropolitan-investigation",
   "metadata": {},
   "source": [
    "---"
   ]
  },
  {
   "cell_type": "markdown",
   "id": "latter-artwork",
   "metadata": {},
   "source": [
    "# Now let's predict"
   ]
  },
  {
   "cell_type": "markdown",
   "id": "featured-strain",
   "metadata": {},
   "source": [
    "## Prepare data"
   ]
  },
  {
   "cell_type": "markdown",
   "id": "second-headset",
   "metadata": {},
   "source": [
    "Use the last 20% as the test set."
   ]
  },
  {
   "cell_type": "code",
   "execution_count": 16,
   "id": "liberal-crisis",
   "metadata": {
    "ExecuteTime": {
     "end_time": "2022-02-18T09:31:13.309947Z",
     "start_time": "2022-02-18T09:31:13.306919Z"
    }
   },
   "outputs": [
    {
     "name": "stdout",
     "output_type": "stream",
     "text": [
      "1338 1070 268\n"
     ]
    }
   ],
   "source": [
    "N = data.shape[0]\n",
    "N_train = int(N * 0.8)\n",
    "N_test = N - N_train\n",
    "print(N, N_train, N_test)"
   ]
  },
  {
   "cell_type": "markdown",
   "id": "minute-halifax",
   "metadata": {},
   "source": [
    "Random draw training and testing samples"
   ]
  },
  {
   "cell_type": "code",
   "execution_count": 17,
   "id": "genetic-albany",
   "metadata": {
    "ExecuteTime": {
     "end_time": "2022-02-18T09:31:13.323418Z",
     "start_time": "2022-02-18T09:31:13.311207Z"
    }
   },
   "outputs": [],
   "source": [
    "indices_train = np.random.choice(np.arange(N), replace=False, size=N_train)\n",
    "indices_test = np.array([index for index in np.arange(N) if index not in indices_train])"
   ]
  },
  {
   "cell_type": "code",
   "execution_count": 18,
   "id": "divided-wildlife",
   "metadata": {
    "ExecuteTime": {
     "end_time": "2022-02-18T09:31:13.328413Z",
     "start_time": "2022-02-18T09:31:13.324596Z"
    }
   },
   "outputs": [
    {
     "data": {
      "text/plain": [
       "(1070, 6)"
      ]
     },
     "execution_count": 18,
     "metadata": {},
     "output_type": "execute_result"
    }
   ],
   "source": [
    "data_train = data.iloc[indices_train].copy(deep=True)\n",
    "data_train.shape"
   ]
  },
  {
   "cell_type": "code",
   "execution_count": 19,
   "id": "friendly-agent",
   "metadata": {
    "ExecuteTime": {
     "end_time": "2022-02-18T09:31:13.333126Z",
     "start_time": "2022-02-18T09:31:13.329748Z"
    }
   },
   "outputs": [
    {
     "data": {
      "text/plain": [
       "(268, 6)"
      ]
     },
     "execution_count": 19,
     "metadata": {},
     "output_type": "execute_result"
    }
   ],
   "source": [
    "data_test = data.iloc[indices_test].copy(deep=True)\n",
    "data_test.shape"
   ]
  },
  {
   "cell_type": "markdown",
   "id": "north-involvement",
   "metadata": {},
   "source": [
    "Split into X and y for convenience later"
   ]
  },
  {
   "cell_type": "code",
   "execution_count": 20,
   "id": "trying-collaboration",
   "metadata": {
    "ExecuteTime": {
     "end_time": "2022-02-18T09:31:13.337703Z",
     "start_time": "2022-02-18T09:31:13.334560Z"
    }
   },
   "outputs": [
    {
     "data": {
      "text/plain": [
       "Index(['age', 'sex', 'bmi', 'children', 'smoker', 'charges'], dtype='object')"
      ]
     },
     "execution_count": 20,
     "metadata": {},
     "output_type": "execute_result"
    }
   ],
   "source": [
    "data_train.columns # double check variable names"
   ]
  },
  {
   "cell_type": "code",
   "execution_count": 21,
   "id": "twelve-invalid",
   "metadata": {
    "ExecuteTime": {
     "end_time": "2022-02-18T09:31:13.343496Z",
     "start_time": "2022-02-18T09:31:13.339148Z"
    }
   },
   "outputs": [],
   "source": [
    "X_train = data_train.loc[:, data_train.columns[:-1]].values\n",
    "y_train = data_train.loc[:, data_train.columns[-1]].values\n",
    "X_test = data_test.loc[:, data_test.columns[:-1]].values\n",
    "y_test = data_test.loc[:, data_test.columns[-1]].values"
   ]
  },
  {
   "cell_type": "markdown",
   "id": "diagnostic-trial",
   "metadata": {},
   "source": [
    "Set the number of folds to be 5"
   ]
  },
  {
   "cell_type": "code",
   "execution_count": 22,
   "id": "hungarian-trader",
   "metadata": {
    "ExecuteTime": {
     "end_time": "2022-02-18T09:31:13.346977Z",
     "start_time": "2022-02-18T09:31:13.344980Z"
    }
   },
   "outputs": [],
   "source": [
    "N_folds = 5"
   ]
  },
  {
   "cell_type": "code",
   "execution_count": 23,
   "id": "solved-sellers",
   "metadata": {
    "ExecuteTime": {
     "end_time": "2022-02-18T09:31:13.350434Z",
     "start_time": "2022-02-18T09:31:13.348234Z"
    }
   },
   "outputs": [],
   "source": [
    "print_string = 'Generalization error across the %i folds: %.3f ± %.3f'"
   ]
  },
  {
   "cell_type": "markdown",
   "id": "recorded-struggle",
   "metadata": {},
   "source": [
    "## Linear regression"
   ]
  },
  {
   "cell_type": "code",
   "execution_count": 59,
   "id": "electronic-collectible",
   "metadata": {
    "ExecuteTime": {
     "end_time": "2022-02-18T10:35:34.425769Z",
     "start_time": "2022-02-18T10:35:34.413935Z"
    }
   },
   "outputs": [
    {
     "name": "stdout",
     "output_type": "stream",
     "text": [
      "Fold 1: 0.230\n",
      "Fold 2: 0.193\n",
      "Fold 3: 0.174\n",
      "Fold 4: 0.222\n",
      "Fold 5: 0.195\n",
      "Generalization error across the 5 folds: 0.203 ± 0.021\n"
     ]
    }
   ],
   "source": [
    "# use the split for train/validation\n",
    "kf = KFold(n_splits=N_folds, shuffle=True, random_state=np.random.randint(1, 100))\n",
    "mse_list = list()\n",
    "for i, (tra_index, val_index) in enumerate(kf.split(X_train)):\n",
    "    X_tra, y_tra = X_train[tra_index], y_train[tra_index]\n",
    "    X_val, y_val = X_train[val_index], y_train[val_index]\n",
    "    lr = linear_model.LinearRegression().fit(X_tra, y_tra)\n",
    "    mse = metrics.mean_squared_error(y_val, lr.predict(X_val))\n",
    "    mse_list.append(mse)\n",
    "    print('Fold %i: %.3f'%(i+1, mse))\n",
    "print(print_string%(N_folds, np.mean(mse_list), np.std(mse_list)))"
   ]
  },
  {
   "cell_type": "markdown",
   "id": "amended-fundamentals",
   "metadata": {},
   "source": [
    "Let's try using all the training data and appply in the test set"
   ]
  },
  {
   "cell_type": "code",
   "execution_count": 60,
   "id": "french-breed",
   "metadata": {
    "ExecuteTime": {
     "end_time": "2022-02-18T10:35:34.844967Z",
     "start_time": "2022-02-18T10:35:34.840300Z"
    }
   },
   "outputs": [
    {
     "name": "stdout",
     "output_type": "stream",
     "text": [
      "The overall test error using a linear regression model is 0.19927\n"
     ]
    }
   ],
   "source": [
    "lr = linear_model.LinearRegression().fit(X_train, y_train)\n",
    "lr_mse = metrics.mean_squared_error(y_test, lr.predict(X_test))\n",
    "print('The overall test error using a linear regression model is %.5f'%(lr_mse))"
   ]
  },
  {
   "cell_type": "markdown",
   "id": "spatial-parent",
   "metadata": {},
   "source": [
    "## Linear regression with L2 norm regularization"
   ]
  },
  {
   "cell_type": "markdown",
   "id": "polish-raising",
   "metadata": {},
   "source": [
    "Now that ridge regression contains a hyperparameter, it is also tuned via cross validation. Specifically, the best performing parameter value is picked based on the average performance across folds."
   ]
  },
  {
   "cell_type": "markdown",
   "id": "conservative-potential",
   "metadata": {},
   "source": [
    "The only hyperparameter is `alpha`, which is the how much regularization one wants to enforce."
   ]
  },
  {
   "cell_type": "code",
   "execution_count": 67,
   "id": "chubby-enterprise",
   "metadata": {
    "ExecuteTime": {
     "end_time": "2022-02-18T10:35:48.227903Z",
     "start_time": "2022-02-18T10:35:48.225070Z"
    }
   },
   "outputs": [],
   "source": [
    "alpha_candidates = np.linspace(0.001, 1, 100)"
   ]
  },
  {
   "cell_type": "code",
   "execution_count": 68,
   "id": "timely-scope",
   "metadata": {
    "ExecuteTime": {
     "end_time": "2022-02-18T10:35:48.785296Z",
     "start_time": "2022-02-18T10:35:48.417054Z"
    }
   },
   "outputs": [],
   "source": [
    "# use the split for train/validation\n",
    "kf = KFold(n_splits=N_folds, shuffle=True, random_state=np.random.randint(1, 100))\n",
    "# let's use a dictionary this time with alpha being key\n",
    "mse_dict = {alp: list() for alp in alpha_candidates}\n",
    "for i, (tra_index, val_index) in enumerate(kf.split(X_train)):\n",
    "    X_tra, y_tra = X_train[tra_index], y_train[tra_index]\n",
    "    X_val, y_val = X_train[val_index], y_train[val_index]\n",
    "    for alp in alpha_candidates:\n",
    "        ridge_alp = linear_model.Ridge(alpha=alp).fit(X_tra, y_tra)\n",
    "        mse = metrics.mean_squared_error(y_val, ridge_alp.predict(X_val))\n",
    "        mse_dict[alp].append(mse)"
   ]
  },
  {
   "cell_type": "code",
   "execution_count": 69,
   "id": "thrown-anaheim",
   "metadata": {
    "ExecuteTime": {
     "end_time": "2022-02-18T10:35:48.794104Z",
     "start_time": "2022-02-18T10:35:48.787817Z"
    }
   },
   "outputs": [
    {
     "name": "stdout",
     "output_type": "stream",
     "text": [
      "Smallest MSE achieved at alpha of 0.152: 0.203\n"
     ]
    }
   ],
   "source": [
    "mse_mean_list = np.array([np.mean(mse_alp) for alp, mse_alp in mse_dict.items()])\n",
    "mse_mean_smallest_alp = sorted(mse_dict.items(), key=lambda x: np.mean(x[1]))[0][0]\n",
    "mse_mean_smallest_min = np.min(mse_mean_list)\n",
    "print('Smallest MSE achieved at alpha of %.3f: %.3f'%(mse_mean_smallest_alp,\n",
    "                                                      mse_mean_smallest_min))"
   ]
  },
  {
   "cell_type": "code",
   "execution_count": 70,
   "id": "weighted-resource",
   "metadata": {
    "ExecuteTime": {
     "end_time": "2022-02-18T10:35:49.265779Z",
     "start_time": "2022-02-18T10:35:49.005086Z"
    }
   },
   "outputs": [
    {
     "data": {
      "image/png": "[encoded data removed]",
      "text/plain": [
       "<Figure size 576x360 with 1 Axes>"
      ]
     },
     "metadata": {
      "needs_background": "light"
     },
     "output_type": "display_data"
    }
   ],
   "source": [
    "fig, ax = plt.subplots(figsize=[8, 5])\n",
    "ax.set_ylabel('Mean Squared Error',\n",
    "              size=14)\n",
    "ax.set_xlabel('Alpha Values (Regularization Strength)',\n",
    "              size=14)\n",
    "ax.axvline(x=mse_mean_smallest_alp, ls='--', color='k')\n",
    "ax.set_title('Smallest MSE achieved at alpha of %.3f: %.3f'%(mse_mean_smallest_alp,\n",
    "                                                             mse_mean_smallest_min),\n",
    "             fontsize=14)\n",
    "_ = ax.scatter(alpha_candidates, mse_mean_list,\n",
    "               marker='.', color='k', s=5)"
   ]
  },
  {
   "cell_type": "markdown",
   "id": "joined-torture",
   "metadata": {},
   "source": [
    "Let's use this best value and train using all the training data."
   ]
  },
  {
   "cell_type": "code",
   "execution_count": 71,
   "id": "respected-spanish",
   "metadata": {
    "ExecuteTime": {
     "end_time": "2022-02-18T10:35:51.230880Z",
     "start_time": "2022-02-18T10:35:51.225740Z"
    }
   },
   "outputs": [
    {
     "name": "stdout",
     "output_type": "stream",
     "text": [
      "The overall test error using a Ridge regression model is 0.19926\n"
     ]
    }
   ],
   "source": [
    "ridge = linear_model.Ridge(alpha=mse_mean_smallest_alp).fit(X_train, y_train)\n",
    "ridge_mse = metrics.mean_squared_error(y_test, ridge.predict(X_test))\n",
    "print('The overall test error using a Ridge regression model is %.5f'%(ridge_mse))"
   ]
  },
  {
   "cell_type": "markdown",
   "id": "funky-split",
   "metadata": {},
   "source": [
    "Lastly, note that `sklearn` offers a more convenient function [`RidgeCV`](https://scikit-learn.org/stable/modules/generated/sklearn.linear_model.RidgeCV.html#sklearn.linear_model.RidgeCV) that helps to conduct cross validation conveniently. You are encouraged to try that on your own."
   ]
  },
  {
   "cell_type": "markdown",
   "id": "subtle-affiliate",
   "metadata": {},
   "source": [
    "## Gaussian process regression"
   ]
  },
  {
   "cell_type": "markdown",
   "id": "expired-mining",
   "metadata": {},
   "source": [
    "Guassian process (GP) regression is much more flexible due to the many choices of kernels which capture distances between data points. In this example, we use the most common one, namely radial-basis function (RBF; a.k.a., squared exponential) kernel. It contains a hyperparameter `length_scale` corresponding to $l$ in the following equation:"
   ]
  },
  {
   "cell_type": "markdown",
   "id": "abstract-hacker",
   "metadata": {},
   "source": [
    "$$ RBF(x_i,x_j) = \\text{exp}\\big( -\\dfrac{dist(x_i, x_j)}{2l^2} \\big) $$"
   ]
  },
  {
   "cell_type": "markdown",
   "id": "played-wonder",
   "metadata": {},
   "source": [
    "where $dist(x_i, x_j)$ is a distance measure (a common implementation is Euclidean distance).\n",
    "The larger $l$ is, the more penalty toward distant data points. For each feature, there is an $l$ but usually we could just use symmetric $l$, i.e., all features sharing the same length scale.\n",
    "Now let's try vary the `length_scale` $l$ and identify the best performing one: "
   ]
  },
  {
   "cell_type": "code",
   "execution_count": 72,
   "id": "2ff13935",
   "metadata": {
    "ExecuteTime": {
     "end_time": "2022-02-18T10:35:52.835233Z",
     "start_time": "2022-02-18T10:35:52.831826Z"
    }
   },
   "outputs": [
    {
     "data": {
      "text/plain": [
       "array([1.  , 1.25, 1.5 , 1.75, 2.  ])"
      ]
     },
     "execution_count": 72,
     "metadata": {},
     "output_type": "execute_result"
    }
   ],
   "source": [
    "ls_candidates = np.linspace(1, 2, 5)\n",
    "ls_candidates"
   ]
  },
  {
   "cell_type": "code",
   "execution_count": 73,
   "id": "nearby-cycle",
   "metadata": {
    "ExecuteTime": {
     "end_time": "2022-02-18T10:49:20.539743Z",
     "start_time": "2022-02-18T10:35:56.070064Z"
    }
   },
   "outputs": [
    {
     "name": "stdout",
     "output_type": "stream",
     "text": [
      "Working on Fold #0\n",
      "Working on Fold #1\n",
      "Working on Fold #2\n",
      "Working on Fold #3\n",
      "Working on Fold #4\n"
     ]
    }
   ],
   "source": [
    "# use the split for train/validation\n",
    "warnings.simplefilter('ignore')\n",
    "kf = KFold(n_splits=N_folds, shuffle=True, random_state=np.random.randint(1, 100))\n",
    "mse_dict = {ls: list() for ls in ls_candidates}\n",
    "for i, (tra_index, val_index) in enumerate(kf.split(X_train)):\n",
    "    print('Working on Fold #%i'%i)\n",
    "    X_tra, y_tra = X_train[tra_index], y_train[tra_index]\n",
    "    X_val, y_val = X_train[val_index], y_train[val_index]\n",
    "    for ls in ls_candidates:\n",
    "        l_kernel = SK_GP.kernels.RBF(length_scale=[ls]*X_tra.shape[1])\n",
    "        l_kernel += SK_GP.kernels.WhiteKernel()\n",
    "        gp_l = SK_GP.GaussianProcessRegressor(kernel=l_kernel,\n",
    "                                              n_restarts_optimizer=10,\n",
    "                                              normalize_y=True).fit(X_tra, y_tra)\n",
    "        mse = metrics.mean_squared_error(y_val, gp_l.predict(X_val))\n",
    "        #print('Fold %i: %.3f'%(i+1, mse))\n",
    "        mse_dict[ls].append(mse)"
   ]
  },
  {
   "cell_type": "code",
   "execution_count": 74,
   "id": "042ee358",
   "metadata": {
    "ExecuteTime": {
     "end_time": "2022-02-18T10:49:20.550230Z",
     "start_time": "2022-02-18T10:49:20.543068Z"
    }
   },
   "outputs": [
    {
     "name": "stdout",
     "output_type": "stream",
     "text": [
      "Smallest MSE achieved at length scale of 1.250: 0.143\n"
     ]
    }
   ],
   "source": [
    "mse_mean_list = np.array([np.mean(mse_ls) for ls, mse_ls in mse_dict.items()])\n",
    "mse_mean_smallest_ls = sorted(mse_dict.items(), key=lambda x: np.mean(x[1]))[0][0]\n",
    "mse_mean_smallest_min = np.min(mse_mean_list)\n",
    "print('Smallest MSE achieved at length scale of %.3f: %.3f'%(mse_mean_smallest_ls,\n",
    "                                                             mse_mean_smallest_min))"
   ]
  },
  {
   "cell_type": "code",
   "execution_count": 75,
   "id": "af2efe07",
   "metadata": {
    "ExecuteTime": {
     "end_time": "2022-02-18T10:49:20.767896Z",
     "start_time": "2022-02-18T10:49:20.552957Z"
    }
   },
   "outputs": [
    {
     "data": {
      "image/png": "[encoded data removed]",
      "text/plain": [
       "<Figure size 576x360 with 1 Axes>"
      ]
     },
     "metadata": {
      "needs_background": "light"
     },
     "output_type": "display_data"
    }
   ],
   "source": [
    "fig, ax = plt.subplots(figsize=[8, 5])\n",
    "ax.set_ylabel('Mean Squared Error',\n",
    "              size=14)\n",
    "ax.set_xlabel('$l$ (Length Scale)',\n",
    "              size=14)\n",
    "ax.axvline(x=mse_mean_smallest_ls,\n",
    "           ls='--', color='k')\n",
    "ax.set_title('Smallest MSE achieved at lsha of %.3f: %.3f'%(mse_mean_smallest_ls,\n",
    "                                                             mse_mean_smallest_min),\n",
    "             fontsize=14)\n",
    "_ = ax.scatter(ls_candidates, mse_mean_list,\n",
    "               marker='.', color='k', s=40)"
   ]
  },
  {
   "cell_type": "code",
   "execution_count": 76,
   "id": "classified-rotation",
   "metadata": {
    "ExecuteTime": {
     "end_time": "2022-02-18T10:49:37.408684Z",
     "start_time": "2022-02-18T10:49:20.770610Z"
    }
   },
   "outputs": [
    {
     "name": "stdout",
     "output_type": "stream",
     "text": [
      "The overall test error using a GPR model is 0.22832\n"
     ]
    }
   ],
   "source": [
    "l_kernel = SK_GP.kernels.RBF(length_scale=mse_mean_smallest_ls)\n",
    "l_kernel += SK_GP.kernels.WhiteKernel()\n",
    "gp = SK_GP.GaussianProcessRegressor(kernel=l_kernel,\n",
    "                                    n_restarts_optimizer=10,\n",
    "                                    normalize_y=True).fit(X_train, y_train)\n",
    "gp_mse = metrics.mean_squared_error(y_test, gp.predict(X_test))\n",
    "print('The overall test error using a GPR model is %.5f'%(gp_mse))"
   ]
  },
  {
   "cell_type": "markdown",
   "id": "dbb60cdd",
   "metadata": {},
   "source": [
    "---"
   ]
  },
  {
   "cell_type": "markdown",
   "id": "d370f3d4",
   "metadata": {},
   "source": [
    "# Visualization"
   ]
  },
  {
   "cell_type": "code",
   "execution_count": 77,
   "id": "db959e61",
   "metadata": {
    "ExecuteTime": {
     "end_time": "2022-02-18T10:49:37.446703Z",
     "start_time": "2022-02-18T10:49:37.411150Z"
    }
   },
   "outputs": [],
   "source": [
    "fit_dict = dict(LinReg=lr.predict(X_train),\n",
    "                Ridge=ridge.predict(X_train),\n",
    "                GPR=gp.predict(X_train))\n",
    "pred_dict = dict(LinReg=lr.predict(X_test),\n",
    "                 Ridge=ridge.predict(X_test),\n",
    "                 GPR=gp.predict(X_test))"
   ]
  },
  {
   "cell_type": "code",
   "execution_count": 78,
   "id": "3cde05ec",
   "metadata": {
    "ExecuteTime": {
     "end_time": "2022-02-18T10:49:37.453842Z",
     "start_time": "2022-02-18T10:49:37.449347Z"
    }
   },
   "outputs": [],
   "source": [
    "marker_dict = dict(LinReg={'color': 'k', 'marker': 'o', 's': 50, 'facecolor': 'none'},\n",
    "                   Ridge={'color': 'navy', 'marker': '+', 's': 50},\n",
    "                   GPR={'color': 'darkgreen', 'marker': '^', 's': 50, 'facecolor': 'none'},\n",
    "                  )"
   ]
  },
  {
   "cell_type": "code",
   "execution_count": 79,
   "id": "50dffa9a",
   "metadata": {
    "ExecuteTime": {
     "end_time": "2022-02-18T10:49:37.804666Z",
     "start_time": "2022-02-18T10:49:37.456914Z"
    }
   },
   "outputs": [
    {
     "data": {
      "image/png": "[encoded data removed]",
      "text/plain": [
       "<Figure size 792x360 with 2 Axes>"
      ]
     },
     "metadata": {
      "needs_background": "light"
     },
     "output_type": "display_data"
    }
   ],
   "source": [
    "fig, (ax_tra, ax_tst) = plt.subplots(figsize=[11, 5], ncols=2,\n",
    "                                     sharex=True, sharey=True)\n",
    "############\n",
    "for mod, mod_fit in fit_dict.items():\n",
    "    ax_tra.scatter(y_train, mod_fit, label=mod,\n",
    "                   **marker_dict[mod])\n",
    "ax_tra.plot(np.arange(y_train.min(), y_train.max()+1),\n",
    "            np.arange(y_train.min(), y_train.max()+1),\n",
    "            linestyle='--', color='r')\n",
    "ax_tra.set_title('Training')\n",
    "ax_tra.set_xticks(np.arange(np.floor(y_train.min()), np.ceil(y_train.max())))\n",
    "############\n",
    "for mod, mod_pred in pred_dict.items():\n",
    "    ax_tst.scatter(y_test, mod_pred, label=mod,\n",
    "                   **marker_dict[mod])\n",
    "ax_tst.set_title('Testing')\n",
    "ax_tst.plot(np.arange(y_train.min(), y_train.max()),\n",
    "            np.arange(y_train.min(), y_train.max()),\n",
    "            linestyle='--', color='r', label='Perfect Fit')\n",
    "ax_tst.legend(loc=2, prop={'size': 12}, ncol=2)\n",
    "fig.tight_layout()"
   ]
  }
 ],
 "metadata": {
  "kernelspec": {
   "display_name": "Python 3 (ipykernel)",
   "language": "python",
   "name": "python3"
  },
  "language_info": {
   "codemirror_mode": {
    "name": "ipython",
    "version": 3
   },
   "file_extension": ".py",
   "mimetype": "text/x-python",
   "name": "python",
   "nbconvert_exporter": "python",
   "pygments_lexer": "ipython3",
   "version": "3.9.9"
  },
  "toc": {
   "base_numbering": 1,
   "nav_menu": {},
   "number_sections": true,
   "sideBar": true,
   "skip_h1_title": false,
   "title_cell": "Table of Contents",
   "title_sidebar": "Contents",
   "toc_cell": false,
   "toc_position": {
    "height": "calc(100% - 180px)",
    "left": "10px",
    "top": "150px",
    "width": "290.1875px"
   },
   "toc_section_display": true,
   "toc_window_display": true
  }
 },
 "nbformat": 4,
 "nbformat_minor": 5
}
