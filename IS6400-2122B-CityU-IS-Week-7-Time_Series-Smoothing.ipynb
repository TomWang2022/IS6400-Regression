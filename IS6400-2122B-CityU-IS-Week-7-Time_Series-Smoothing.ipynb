{
 "cells": [
  {
   "cell_type": "markdown",
   "id": "economic-contrary",
   "metadata": {},
   "source": [
    "IS6400 21/22 Semester B\n",
    "\n",
    "- Week 7: Time Series (I)\n",
    "    - Smoothing models\n",
    "\n",
    "Zhiya Zuo (zhiyazuo@cityu.edu.hk)\n",
    "\n",
    "Department of Information Systems\n",
    "\n",
    "City University of Hong Kong"
   ]
  },
  {
   "cell_type": "markdown",
   "id": "dependent-agency",
   "metadata": {},
   "source": [
    "---"
   ]
  },
  {
   "cell_type": "code",
   "execution_count": 1,
   "id": "endless-wells",
   "metadata": {
    "ExecuteTime": {
     "end_time": "2022-02-17T15:26:56.859920Z",
     "start_time": "2022-02-17T15:26:56.337397Z"
    }
   },
   "outputs": [],
   "source": [
    "import numpy as np\n",
    "import pandas as pd\n",
    "import scipy.stats as SP_STATS"
   ]
  },
  {
   "cell_type": "code",
   "execution_count": 2,
   "id": "asian-response",
   "metadata": {
    "ExecuteTime": {
     "end_time": "2022-02-17T15:27:13.395062Z",
     "start_time": "2022-02-17T15:26:56.861708Z"
    }
   },
   "outputs": [],
   "source": [
    "import statsmodels.api as sm"
   ]
  },
  {
   "cell_type": "code",
   "execution_count": 3,
   "id": "filled-influence",
   "metadata": {
    "ExecuteTime": {
     "end_time": "2022-02-17T15:27:14.062670Z",
     "start_time": "2022-02-17T15:27:13.396978Z"
    }
   },
   "outputs": [],
   "source": [
    "import seaborn as sns\n",
    "from matplotlib import pyplot as plt\n",
    "%matplotlib inline\n",
    "#%matplotlib notebook"
   ]
  },
  {
   "cell_type": "markdown",
   "id": "comparable-nicaragua",
   "metadata": {},
   "source": [
    "---"
   ]
  },
  {
   "cell_type": "markdown",
   "id": "noted-maldives",
   "metadata": {},
   "source": [
    "# Introduction"
   ]
  },
  {
   "cell_type": "markdown",
   "id": "tutorial-chess",
   "metadata": {},
   "source": [
    "Forecasting inherently lives in human nature. As human beings, we either implicityly or explicitly think in a way to infer the future, which in turn guides our decision making. For example, weather forecasting is prevalent:\n",
    "![img](https://upload.wikimedia.org/wikipedia/commons/thumb/a/a9/Newspaper_weather_forecast_-_today_and_tomorrow.svg/2560px-Newspaper_weather_forecast_-_today_and_tomorrow.svg.png)"
   ]
  },
  {
   "cell_type": "markdown",
   "id": "several-stylus",
   "metadata": {},
   "source": [
    "In the business context, forecasting is commonly adopted across various scenarios. In finance, one usually find it important to make use of forecasting tools to help predict the future stock or cryptocurrency values to make profits. In operations management, it is critical to accurately manage inventory to avoid excessive storage cost due to misprediction of demand from the customers."
   ]
  },
  {
   "cell_type": "markdown",
   "id": "liable-playback",
   "metadata": {},
   "source": [
    "## Forecasting from a qualitative perspective"
   ]
  },
  {
   "cell_type": "markdown",
   "id": "ideal-hopkins",
   "metadata": {},
   "source": [
    "Notably, there are two general classes of forecasting approach. One is qualitative approach, which is often referred to as _judgemental forecasts_. As its name suggests, it relies on human judegement involving mental calculation using information which may be partially available or biased. Consequently, judgemental forecasts are highly subjective and may vary across individuals due to limits in both internal factors (e.g., cognitive limits) as well as external ones (e.g., political agendas)."
   ]
  },
  {
   "cell_type": "markdown",
   "id": "fresh-healthcare",
   "metadata": {},
   "source": [
    "One notable implementation of qualitative forecast is called the _delphi method_. In brief terms, it refers to an interative approach involving at least one faciliator recruiting domain experts for a few rounds of surveying and interviewing. The final forecast is then based on the average forecast generated from the iterative process."
   ]
  },
  {
   "cell_type": "markdown",
   "id": "wanted-outdoors",
   "metadata": {},
   "source": [
    "![img](https://upload.wikimedia.org/wikipedia/commons/a/a4/Asking_the_crystal_orb.jpg)"
   ]
  },
  {
   "cell_type": "markdown",
   "id": "pleased-programmer",
   "metadata": {},
   "source": [
    "Whereas the limits lying in this forecasting approach, it is inevitable in some cases where historical data available or suitable for quantitative analysis is unavailable. For instance, imagine that there is an academic department at CityU which is trying to design a new graduate program with a focus on _Smart Business and Financial Technology_. The critical issue is the design of a curriculum with courses covering appropriate topics involving technological as well as financial aspects to facilitate an interdisciplinary education outcome.\n",
    "Therefore, this curriculum design can be framed as a forecasting task which involves an esitimate of the labor market demand in two to three years or even longer with respect to talent acquisition by businesses.\n",
    "\n",
    "In this task, there is little historical data on smart business and financial technology. It is therefore essential for relevant panels with experts on this matter to pull together scattered and unstructured (and even noisy) information they have for discussion before a draft can be made.\n",
    "\n",
    "Lastly, this forecasting approach is beyond the scope of this class. Next we move on to discuss on the other approach."
   ]
  },
  {
   "cell_type": "markdown",
   "id": "adolescent-secret",
   "metadata": {},
   "source": [
    "## Forecasting from a quantitative perspective"
   ]
  },
  {
   "cell_type": "markdown",
   "id": "meaningful-scanning",
   "metadata": {},
   "source": [
    "Whenever there is appropriate data source to solve a forecasting task, we may want to apply quantitative approaches to formulate such a problem using mathematical languages. \n",
    "To a large extent, extant data, especially well structured data, can provide significant amounts of signals to complement our qualitative assessment for a better prediction."
   ]
  },
  {
   "cell_type": "markdown",
   "id": "impossible-mercy",
   "metadata": {},
   "source": [
    "Under this quantitative perspective, there are two streams which can in fact be merged together:\n",
    "1. Exponential smoothing methods that mine patterns from the past. The resulting patterns will then be exptrapolated into the future.\n",
    "2. Regression methods that formulate forecasting as regression where the dependent variable is the future target of interest while the independent variable include both the past target and other relevant (causal) factors."
   ]
  },
  {
   "cell_type": "markdown",
   "id": "interim-merchant",
   "metadata": {},
   "source": [
    "In the next section, we start with descriptive features of time series data, followed by discussion on the two approachs for quantitative forecasting."
   ]
  },
  {
   "cell_type": "markdown",
   "id": "alert-saskatchewan",
   "metadata": {},
   "source": [
    "---"
   ]
  },
  {
   "cell_type": "markdown",
   "id": "present-logging",
   "metadata": {},
   "source": [
    "# Time series data"
   ]
  },
  {
   "cell_type": "markdown",
   "id": "royal-complement",
   "metadata": {},
   "source": [
    "In the previous class, we talk about predictive modelling in general. Given a set of training data, our goal is to predict the target of testing data. When one is exposed to prediction through classes on data mining, the dataset we are exposed to are oftentimes _cross sectional_ data, in which each row is about one record of an independent subject with each column being attributes about subjects."
   ]
  },
  {
   "cell_type": "markdown",
   "id": "received-mississippi",
   "metadata": {},
   "source": [
    "Time series data is inherently different from cross sectional data given that it evolves over time. Rather than invovling multiple subjects, a time series data consists of repetitive measurement of a set of attributes (usually one) of a given subject over time. For instance, a time series dataset can be the daily temperature in Hong Kong or the daily stock closing price of Alibaba.\n",
    "Note that when a dataset includes records including repetitive measurements over various subjects, it is referred to as a _panel_ dataset, which is beyond our scope."
   ]
  },
  {
   "cell_type": "markdown",
   "id": "infrared-argument",
   "metadata": {},
   "source": [
    "How is time series analysis different from that with cross sectional data? Well, time series is complex due to its variety of patterns. To illustrate, we make use of a toy example below."
   ]
  },
  {
   "cell_type": "code",
   "execution_count": 4,
   "id": "little-washington",
   "metadata": {
    "ExecuteTime": {
     "end_time": "2022-02-17T15:27:14.082084Z",
     "start_time": "2022-02-17T15:27:14.065220Z"
    }
   },
   "outputs": [
    {
     "data": {
      "text/html": [
       "<div>\n",
       "<style scoped>\n",
       "    .dataframe tbody tr th:only-of-type {\n",
       "        vertical-align: middle;\n",
       "    }\n",
       "\n",
       "    .dataframe tbody tr th {\n",
       "        vertical-align: top;\n",
       "    }\n",
       "\n",
       "    .dataframe thead th {\n",
       "        text-align: right;\n",
       "    }\n",
       "</style>\n",
       "<table border=\"1\" class=\"dataframe\">\n",
       "  <thead>\n",
       "    <tr style=\"text-align: right;\">\n",
       "      <th></th>\n",
       "      <th>Date</th>\n",
       "      <th>Open</th>\n",
       "      <th>High</th>\n",
       "      <th>Low</th>\n",
       "      <th>Close</th>\n",
       "      <th>Adj Close</th>\n",
       "      <th>Volume</th>\n",
       "    </tr>\n",
       "  </thead>\n",
       "  <tbody>\n",
       "    <tr>\n",
       "      <th>0</th>\n",
       "      <td>2017-02-13</td>\n",
       "      <td>816.000000</td>\n",
       "      <td>820.958984</td>\n",
       "      <td>815.489990</td>\n",
       "      <td>819.239990</td>\n",
       "      <td>819.239990</td>\n",
       "      <td>1213300</td>\n",
       "    </tr>\n",
       "    <tr>\n",
       "      <th>1</th>\n",
       "      <td>2017-02-14</td>\n",
       "      <td>819.000000</td>\n",
       "      <td>823.000000</td>\n",
       "      <td>816.000000</td>\n",
       "      <td>820.450012</td>\n",
       "      <td>820.450012</td>\n",
       "      <td>1054700</td>\n",
       "    </tr>\n",
       "    <tr>\n",
       "      <th>2</th>\n",
       "      <td>2017-02-15</td>\n",
       "      <td>819.359985</td>\n",
       "      <td>823.000000</td>\n",
       "      <td>818.469971</td>\n",
       "      <td>818.979980</td>\n",
       "      <td>818.979980</td>\n",
       "      <td>1313600</td>\n",
       "    </tr>\n",
       "  </tbody>\n",
       "</table>\n",
       "</div>"
      ],
      "text/plain": [
       "         Date        Open        High         Low       Close   Adj Close  \\\n",
       "0  2017-02-13  816.000000  820.958984  815.489990  819.239990  819.239990   \n",
       "1  2017-02-14  819.000000  823.000000  816.000000  820.450012  820.450012   \n",
       "2  2017-02-15  819.359985  823.000000  818.469971  818.979980  818.979980   \n",
       "\n",
       "    Volume  \n",
       "0  1213300  \n",
       "1  1054700  \n",
       "2  1313600  "
      ]
     },
     "execution_count": 4,
     "metadata": {},
     "output_type": "execute_result"
    }
   ],
   "source": [
    "google_stock = pd.read_csv('GOOG.csv', date_parser='Date')\n",
    "google_stock.head(3)"
   ]
  },
  {
   "cell_type": "markdown",
   "id": "committed-incentive",
   "metadata": {},
   "source": [
    "The first thing we always want to do when we get a time series data is to visualize it. This is very helpful in facilitating our understanding about our data."
   ]
  },
  {
   "cell_type": "code",
   "execution_count": 5,
   "id": "encouraging-scottish",
   "metadata": {
    "ExecuteTime": {
     "end_time": "2022-02-17T15:27:14.317048Z",
     "start_time": "2022-02-17T15:27:14.083411Z"
    }
   },
   "outputs": [
    {
     "data": {
      "image/png": "[encoded data removed]",
      "text/plain": [
       "<Figure size 576x360 with 1 Axes>"
      ]
     },
     "metadata": {
      "needs_background": "light"
     },
     "output_type": "display_data"
    }
   ],
   "source": [
    "N_ticks = 5 # avoid tick labels being cluttered together\n",
    "fig, ax = plt.subplots(figsize=[8,5])\n",
    "ax.plot(google_stock.Date, google_stock.Close, color='k')\n",
    "_ = ax.xaxis.set_major_locator(plt.MaxNLocator(N_ticks))"
   ]
  },
  {
   "cell_type": "markdown",
   "id": "annual-stage",
   "metadata": {},
   "source": [
    "A first intuition here is that it is going up in general. But what else should we try to capture? A good start is to statistically summarize the distribution of such time series:"
   ]
  },
  {
   "cell_type": "code",
   "execution_count": 6,
   "id": "advanced-ethernet",
   "metadata": {
    "ExecuteTime": {
     "end_time": "2022-02-17T15:27:14.384396Z",
     "start_time": "2022-02-17T15:27:14.318483Z"
    }
   },
   "outputs": [
    {
     "data": {
      "text/html": [
       "<div>\n",
       "<style scoped>\n",
       "    .dataframe tbody tr th:only-of-type {\n",
       "        vertical-align: middle;\n",
       "    }\n",
       "\n",
       "    .dataframe tbody tr th {\n",
       "        vertical-align: top;\n",
       "    }\n",
       "\n",
       "    .dataframe thead th {\n",
       "        text-align: right;\n",
       "    }\n",
       "</style>\n",
       "<table border=\"1\" class=\"dataframe\">\n",
       "  <thead>\n",
       "    <tr style=\"text-align: right;\">\n",
       "      <th></th>\n",
       "      <th>Open</th>\n",
       "      <th>High</th>\n",
       "      <th>Low</th>\n",
       "      <th>Close</th>\n",
       "      <th>Adj Close</th>\n",
       "      <th>Volume</th>\n",
       "    </tr>\n",
       "  </thead>\n",
       "  <tbody>\n",
       "    <tr>\n",
       "      <th>count</th>\n",
       "      <td>1260.0</td>\n",
       "      <td>1260.0</td>\n",
       "      <td>1260.0</td>\n",
       "      <td>1260.0</td>\n",
       "      <td>1260.0</td>\n",
       "      <td>1260.0</td>\n",
       "    </tr>\n",
       "    <tr>\n",
       "      <th>mean</th>\n",
       "      <td>1487.0</td>\n",
       "      <td>1502.0</td>\n",
       "      <td>1473.0</td>\n",
       "      <td>1488.0</td>\n",
       "      <td>1488.0</td>\n",
       "      <td>1563063.0</td>\n",
       "    </tr>\n",
       "    <tr>\n",
       "      <th>std</th>\n",
       "      <td>619.0</td>\n",
       "      <td>624.0</td>\n",
       "      <td>613.0</td>\n",
       "      <td>618.0</td>\n",
       "      <td>618.0</td>\n",
       "      <td>696063.0</td>\n",
       "    </tr>\n",
       "    <tr>\n",
       "      <th>min</th>\n",
       "      <td>807.0</td>\n",
       "      <td>821.0</td>\n",
       "      <td>803.0</td>\n",
       "      <td>814.0</td>\n",
       "      <td>814.0</td>\n",
       "      <td>346800.0</td>\n",
       "    </tr>\n",
       "    <tr>\n",
       "      <th>25%</th>\n",
       "      <td>1071.0</td>\n",
       "      <td>1082.0</td>\n",
       "      <td>1059.0</td>\n",
       "      <td>1071.0</td>\n",
       "      <td>1071.0</td>\n",
       "      <td>1114875.0</td>\n",
       "    </tr>\n",
       "    <tr>\n",
       "      <th>50%</th>\n",
       "      <td>1207.0</td>\n",
       "      <td>1220.0</td>\n",
       "      <td>1200.0</td>\n",
       "      <td>1209.0</td>\n",
       "      <td>1209.0</td>\n",
       "      <td>1388250.0</td>\n",
       "    </tr>\n",
       "    <tr>\n",
       "      <th>75%</th>\n",
       "      <td>1731.0</td>\n",
       "      <td>1749.0</td>\n",
       "      <td>1717.0</td>\n",
       "      <td>1736.0</td>\n",
       "      <td>1736.0</td>\n",
       "      <td>1778525.0</td>\n",
       "    </tr>\n",
       "    <tr>\n",
       "      <th>max</th>\n",
       "      <td>3037.0</td>\n",
       "      <td>3042.0</td>\n",
       "      <td>2998.0</td>\n",
       "      <td>3014.0</td>\n",
       "      <td>3014.0</td>\n",
       "      <td>6207000.0</td>\n",
       "    </tr>\n",
       "  </tbody>\n",
       "</table>\n",
       "</div>"
      ],
      "text/plain": [
       "         Open    High     Low   Close  Adj Close     Volume\n",
       "count  1260.0  1260.0  1260.0  1260.0     1260.0     1260.0\n",
       "mean   1487.0  1502.0  1473.0  1488.0     1488.0  1563063.0\n",
       "std     619.0   624.0   613.0   618.0      618.0   696063.0\n",
       "min     807.0   821.0   803.0   814.0      814.0   346800.0\n",
       "25%    1071.0  1082.0  1059.0  1071.0     1071.0  1114875.0\n",
       "50%    1207.0  1220.0  1200.0  1209.0     1209.0  1388250.0\n",
       "75%    1731.0  1749.0  1717.0  1736.0     1736.0  1778525.0\n",
       "max    3037.0  3042.0  2998.0  3014.0     3014.0  6207000.0"
      ]
     },
     "execution_count": 6,
     "metadata": {},
     "output_type": "execute_result"
    }
   ],
   "source": [
    "google_stock.describe().round()"
   ]
  },
  {
   "cell_type": "markdown",
   "id": "chinese-wagner",
   "metadata": {},
   "source": [
    "The higher mean than the median hints on the skewed distribution of the change in Google' daily stock price over time."
   ]
  },
  {
   "cell_type": "markdown",
   "id": "under-replacement",
   "metadata": {},
   "source": [
    "## Autocorrelation"
   ]
  },
  {
   "cell_type": "markdown",
   "id": "intense-palace",
   "metadata": {},
   "source": [
    "The term _autocorrelation_ may be familiar to us because of the existence of the word stem _correlation_.\n",
    "Just as in the cross sectional case where we want to explore the correlation between variables, we could investigate to what extent a time series target varies over time.\n",
    "In other terms, we can also compute the correlation between lagged time series data.\n",
    "Formally, we can write the autocorrelation into the following form of autocorrelation function (ACF):"
   ]
  },
  {
   "cell_type": "markdown",
   "id": "powerful-proceeding",
   "metadata": {},
   "source": [
    "$$ r_k=\\frac{\\sum_{t=k+1}^{T} (y_t-\\bar{y})(y_{t-k}-\\bar{y})}{\\sum_{t=1}^T(y_t-\\bar{y})^2} $$"
   ]
  },
  {
   "cell_type": "markdown",
   "id": "political-color",
   "metadata": {},
   "source": [
    "where $\\bar{y}$ is the mean time series value; $T$ is the length of the time series. Intuitively, a small value of $k$ captures the correlation between adjacent time series values whereas a large one captures that between far apart time series values. To see what ACF really captures, let us try to compute the autocorrelation values using the Google daily stock data."
   ]
  },
  {
   "cell_type": "code",
   "execution_count": 7,
   "id": "vocational-scholarship",
   "metadata": {
    "ExecuteTime": {
     "end_time": "2022-02-17T15:27:14.390515Z",
     "start_time": "2022-02-17T15:27:14.386239Z"
    }
   },
   "outputs": [
    {
     "name": "stdout",
     "output_type": "stream",
     "text": [
      "The autocorrelation with lag of 1 is 0.997\n"
     ]
    }
   ],
   "source": [
    "# k=1\n",
    "lag = 1\n",
    "r_1 = sm.tsa.stattools.acf(google_stock['Adj Close'], nlags=lag, fft=True)[1]\n",
    "print('The autocorrelation with lag of %i is %.3f'%(lag, r_1))"
   ]
  },
  {
   "cell_type": "markdown",
   "id": "amber-kentucky",
   "metadata": {},
   "source": [
    "This is a super high correlation - almost perfect autocorrelation, meaninig that it is very likely that the data is not generated from a random process. To more genearally capture this, we could run ACF with varying $k$ values:"
   ]
  },
  {
   "cell_type": "code",
   "execution_count": 8,
   "id": "minor-assistant",
   "metadata": {
    "ExecuteTime": {
     "end_time": "2022-02-17T15:27:14.398123Z",
     "start_time": "2022-02-17T15:27:14.392262Z"
    }
   },
   "outputs": [
    {
     "name": "stdout",
     "output_type": "stream",
     "text": [
      "   Lag       ACF\n",
      "0    1  0.997104\n",
      "1    2  0.994140\n",
      "2    3  0.990928\n",
      "3    4  0.987910\n",
      "4    5  0.984961\n",
      "5    6  0.981861\n",
      "6    7  0.978885\n",
      "7    8  0.975501\n",
      "8    9  0.972772\n",
      "9   10  0.970041\n"
     ]
    }
   ],
   "source": [
    "lag = 10\n",
    "r_1_to_10 = sm.tsa.stattools.acf(google_stock['Adj Close'], nlags=lag, fft=True)[1:]\n",
    "print(pd.DataFrame({'Lag': np.arange(lag)+1, 'ACF': r_1_to_10}))"
   ]
  },
  {
   "cell_type": "markdown",
   "id": "fleet-conjunction",
   "metadata": {},
   "source": [
    "A common practice is to visualize it. Luckily,`statsmodels` has this functionality shipped within the package to facilitate this:"
   ]
  },
  {
   "cell_type": "code",
   "execution_count": 9,
   "id": "united-buffer",
   "metadata": {
    "ExecuteTime": {
     "end_time": "2022-02-17T15:27:14.530911Z",
     "start_time": "2022-02-17T15:27:14.399877Z"
    }
   },
   "outputs": [
    {
     "data": {
      "image/png": "[encoded data removed]",
      "text/plain": [
       "<Figure size 576x360 with 1 Axes>"
      ]
     },
     "metadata": {
      "needs_background": "light"
     },
     "output_type": "display_data"
    }
   ],
   "source": [
    "# the shaded region is the 95% CI\n",
    "fig, ax = plt.subplots(figsize=[8, 5])\n",
    "_ = sm.graphics.tsa.plot_acf(google_stock['Adj Close'], lags=lag, ax=ax, zero=False)"
   ]
  },
  {
   "cell_type": "markdown",
   "id": "unnecessary-spell",
   "metadata": {},
   "source": [
    "Usually the autocorrelation if we use more coarse-grained levels for capturing time series (or use a less frequently sampled time series)"
   ]
  },
  {
   "cell_type": "code",
   "execution_count": 10,
   "id": "homeless-chaos",
   "metadata": {
    "ExecuteTime": {
     "end_time": "2022-02-17T15:27:14.659013Z",
     "start_time": "2022-02-17T15:27:14.535147Z"
    }
   },
   "outputs": [
    {
     "data": {
      "image/png": "[encoded data removed]",
      "text/plain": [
       "<Figure size 576x360 with 1 Axes>"
      ]
     },
     "metadata": {
      "needs_background": "light"
     },
     "output_type": "display_data"
    }
   ],
   "source": [
    "fig, ax = plt.subplots(figsize=[8, 5])\n",
    "_ = sm.graphics.tsa.plot_acf(google_stock.loc[np.arange(0, google_stock.shape[0], 30), 'Adj Close'],\n",
    "                             lags=lag, zero=False, ax=ax)"
   ]
  },
  {
   "cell_type": "markdown",
   "id": "rolled-universal",
   "metadata": {},
   "source": [
    "To see this more clearly, we can compare the above figures with one using random noise, in which the correlations fall within the confidence intervals:"
   ]
  },
  {
   "cell_type": "code",
   "execution_count": 11,
   "id": "recreational-security",
   "metadata": {
    "ExecuteTime": {
     "end_time": "2022-02-17T15:27:14.902312Z",
     "start_time": "2022-02-17T15:27:14.660494Z"
    }
   },
   "outputs": [
    {
     "data": {
      "image/png": "[encoded data removed]",
      "text/plain": [
       "<Figure size 864x288 with 2 Axes>"
      ]
     },
     "metadata": {
      "needs_background": "light"
     },
     "output_type": "display_data"
    }
   ],
   "source": [
    "N_ts = 1000\n",
    "random_ts = np.random.normal(loc=10, scale=5, size=N_ts) # standard normal\n",
    "fig, (ax1, ax2) = plt.subplots(figsize=[12, 4], ncols=2)\n",
    "ax1.plot(random_ts)\n",
    "ax1.set_ylabel('Gaussian Noise')\n",
    "sm.graphics.tsa.plot_acf(random_ts, lags=lag, ax=ax2, zero=False)\n",
    "_ = ax2.set_ylabel('Autocorrelation')\n",
    "fig.tight_layout()"
   ]
  },
  {
   "cell_type": "markdown",
   "id": "according-mistress",
   "metadata": {},
   "source": [
    "## Stationarity"
   ]
  },
  {
   "cell_type": "markdown",
   "id": "polar-blame",
   "metadata": {},
   "source": [
    "Time series data features many characteristics unavailable in cross sectional data. One key property is that whether the statistical charateristics of a time series depends on the observation time of its values.\n",
    "In other words, we usually say that a time series in non-stationary if there are any patterns of trends or seasonalities. If we look at the time series of Google stock closing price, we can easily determine that it is not a stationary time series due to its clear upward trend over time."
   ]
  },
  {
   "cell_type": "markdown",
   "id": "thermal-squad",
   "metadata": {},
   "source": [
    "Nonetheless, if we look at the _change_ of its closing price, we may see a different pattern:"
   ]
  },
  {
   "cell_type": "code",
   "execution_count": 12,
   "id": "chief-patient",
   "metadata": {
    "ExecuteTime": {
     "end_time": "2022-02-17T15:27:15.343705Z",
     "start_time": "2022-02-17T15:27:14.903744Z"
    }
   },
   "outputs": [
    {
     "data": {
      "image/png": "[encoded data removed]",
      "text/plain": [
       "<Figure size 864x252 with 2 Axes>"
      ]
     },
     "metadata": {
      "needs_background": "light"
     },
     "output_type": "display_data"
    }
   ],
   "source": [
    "fig, (ax1, ax2) = plt.subplots(figsize=[12, 3.5], ncols=2)\n",
    "ax1.plot(google_stock.Date, google_stock.Close, color='k')\n",
    "ax1.set_ylabel('Closing price', size=14)\n",
    "ax2.plot(google_stock.Date.values, google_stock.Close.diff(1), color='k')\n",
    "ax2.set_ylabel('Change in closing price', size=14)\n",
    "_ = ax1.xaxis.set_major_locator(plt.MaxNLocator(N_ticks))\n",
    "_ = ax2.xaxis.set_major_locator(plt.MaxNLocator(N_ticks))\n",
    "fig.tight_layout()"
   ]
  },
  {
   "cell_type": "markdown",
   "id": "growing-company",
   "metadata": {},
   "source": [
    "Visually, we can tell that there is neither clear trend nor seasonality in the figure on the right, imply the stationarity of the closing price change. In fact, the Gaussian random noise we see above is also stationary."
   ]
  },
  {
   "cell_type": "markdown",
   "id": "valid-holmes",
   "metadata": {},
   "source": [
    "In addition to check stationarity via graphs, we can also make use of statistical tests. One popular test is the Kwiatkowski-Phillips-Schmidt-Shin (KPSS) test, whose null hypothesis ($H_o$) is that the input time series data is stationary. Let's apply that onto the two time series above:"
   ]
  },
  {
   "cell_type": "code",
   "execution_count": 13,
   "id": "proud-appeal",
   "metadata": {
    "ExecuteTime": {
     "end_time": "2022-02-17T15:27:15.349222Z",
     "start_time": "2022-02-17T15:27:15.345037Z"
    }
   },
   "outputs": [
    {
     "name": "stdout",
     "output_type": "stream",
     "text": [
      "Google closing price stationarity p-value: 0.010\n"
     ]
    },
    {
     "name": "stderr",
     "output_type": "stream",
     "text": [
      "/Users/zhiyzuo/.virtualenvs/py3/lib/python3.9/site-packages/statsmodels/tsa/stattools.py:2018: InterpolationWarning: The test statistic is outside of the range of p-values available in the\n",
      "look-up table. The actual p-value is smaller than the p-value returned.\n",
      "\n",
      "  warnings.warn(\n"
     ]
    }
   ],
   "source": [
    "kpss_closing_price = sm.tsa.stattools.kpss(google_stock['Close'], nlags='auto')\n",
    "print('Google closing price stationarity p-value: %.3f'%kpss_closing_price[1])"
   ]
  },
  {
   "cell_type": "code",
   "execution_count": 14,
   "id": "therapeutic-georgia",
   "metadata": {
    "ExecuteTime": {
     "end_time": "2022-02-17T15:27:15.354029Z",
     "start_time": "2022-02-17T15:27:15.350542Z"
    }
   },
   "outputs": [
    {
     "name": "stdout",
     "output_type": "stream",
     "text": [
      "Google closing price change stationarity p-value: 0.100\n"
     ]
    },
    {
     "name": "stderr",
     "output_type": "stream",
     "text": [
      "/Users/zhiyzuo/.virtualenvs/py3/lib/python3.9/site-packages/statsmodels/tsa/stattools.py:2022: InterpolationWarning: The test statistic is outside of the range of p-values available in the\n",
      "look-up table. The actual p-value is greater than the p-value returned.\n",
      "\n",
      "  warnings.warn(\n"
     ]
    }
   ],
   "source": [
    "kpss_change_price = sm.tsa.stattools.kpss(google_stock['Close'].diff(1)[1:], nlags='auto')\n",
    "print('Google closing price change stationarity p-value: %.3f'%kpss_change_price[1])"
   ]
  },
  {
   "cell_type": "markdown",
   "id": "cutting-extent",
   "metadata": {},
   "source": [
    "## Decomposition"
   ]
  },
  {
   "cell_type": "markdown",
   "id": "separated-mercy",
   "metadata": {},
   "source": [
    "As we can above in the stationarity example, time series data may or may not exhibit (explicit) patterns. Theoretically, statistians assume that a time series data can be decomposed into three components:\n",
    "- Seasonality $S_t$\n",
    "- Trend $T_t$\n",
    "- Remainder (or randomness) $R_t$"
   ]
  },
  {
   "cell_type": "markdown",
   "id": "diagnostic-commander",
   "metadata": {},
   "source": [
    "Two common decompositions are often used:\n",
    "- Additive decomposition. This form is appropriate to use when there is a relatively constant seasonality or trend (i.e., invariant as time goes by):\n",
    "$$ y_t = S_t + T_t + R_t $$\n",
    "- Multiplicative decomposition. This is to complement the shortcominings of additive decomposition such that when seasonality or trend is found to be proportional to time series levels, we may want to use this one.\n",
    "$$ y_t = S_t \\times T_t \\times R_t $$"
   ]
  },
  {
   "cell_type": "markdown",
   "id": "given-palace",
   "metadata": {},
   "source": [
    "It is noteworthy that these two decompositions can actually be transformed from multiplicative to additive by taking the logarithm because:\n",
    "$$ log(y_t) = log(S_t) + log(T_t) + log(R_t)$$"
   ]
  },
  {
   "cell_type": "markdown",
   "id": "demonstrated-operator",
   "metadata": {},
   "source": [
    "From the Google closing price data, we can see that there is varying trend over time since it is going faster in recent years. Therefore let's try apply multiplicative decomposition to the data using a commonly adopted approach named _Season-Trend decomposition using LOESS_ (STL):"
   ]
  },
  {
   "cell_type": "code",
   "execution_count": 15,
   "id": "attached-commitment",
   "metadata": {
    "ExecuteTime": {
     "end_time": "2022-02-17T15:27:15.365381Z",
     "start_time": "2022-02-17T15:27:15.355329Z"
    }
   },
   "outputs": [],
   "source": [
    "closing_price = google_stock.set_index('Date')[['Close']].copy()\n",
    "closing_price.index = pd.to_datetime(closing_price.index)\n",
    "# aggregate the time series by month\n",
    "closing_price = closing_price.resample('M').mean()"
   ]
  },
  {
   "cell_type": "code",
   "execution_count": 16,
   "id": "dominican-luxembourg",
   "metadata": {
    "ExecuteTime": {
     "end_time": "2022-02-17T15:27:15.371040Z",
     "start_time": "2022-02-17T15:27:15.366650Z"
    }
   },
   "outputs": [],
   "source": [
    "stl_decomp = sm.tsa.STL(closing_price).fit()\n",
    "stl_trend = stl_decomp.trend\n",
    "stl_seasonal = stl_decomp.seasonal\n",
    "stl_resid= stl_decomp.resid\n",
    "stl_lines = {'Data': closing_price,\n",
    "             'Seasonal': stl_seasonal,\n",
    "             'Trend': stl_trend,\n",
    "             'Remainder': stl_resid}"
   ]
  },
  {
   "cell_type": "code",
   "execution_count": 17,
   "id": "south-spread",
   "metadata": {
    "ExecuteTime": {
     "end_time": "2022-02-17T15:27:15.770653Z",
     "start_time": "2022-02-17T15:27:15.372366Z"
    }
   },
   "outputs": [
    {
     "data": {
      "image/png": "[encoded data removed]",
      "text/plain": [
       "<Figure size 432x432 with 4 Axes>"
      ]
     },
     "metadata": {
      "needs_background": "light"
     },
     "output_type": "display_data"
    }
   ],
   "source": [
    "fig, ax_arr = plt.subplots(nrows=4, figsize=[6, 6], sharex=True, sharey=False)\n",
    "for i, (y_lab, y_val) in enumerate(stl_lines.items()):\n",
    "    ax = ax_arr.flat[i]\n",
    "    ax.plot(y_val, color='k')\n",
    "    ax.set_title(y_lab, size=14)\n",
    "fig.tight_layout()"
   ]
  },
  {
   "cell_type": "markdown",
   "id": "amateur-balance",
   "metadata": {},
   "source": [
    "---"
   ]
  },
  {
   "cell_type": "markdown",
   "id": "operational-designation",
   "metadata": {},
   "source": [
    "# Exponential smoothing models"
   ]
  },
  {
   "cell_type": "markdown",
   "id": "instant-computer",
   "metadata": {},
   "source": [
    "## Intuition"
   ]
  },
  {
   "cell_type": "markdown",
   "id": "talented-madagascar",
   "metadata": {},
   "source": [
    "After exploring some descriptive time series features, we now move on to discuss forecasting:\n",
    "- __How can we predict the future target values based on historical patterns?__"
   ]
  },
  {
   "cell_type": "markdown",
   "id": "retired-diving",
   "metadata": {},
   "source": [
    "From an intuitive perspective, we may argue that any change in the target value may relie on the current status. Maybe we can just have a rough estimate that the value at the next time step is essentially the current one:\n",
    "$$ \\hat{y_{t+1}} = y_t $$"
   ]
  },
  {
   "cell_type": "markdown",
   "id": "blond-andrew",
   "metadata": {},
   "source": [
    "While naive, this in fact aligns with how we may forecast in our daily lives - seeing that the Bitcoin price goes up today, we may conjecture that it may keep up with this upward trend on the next day.\n",
    "In other words, we are extrapolating historical pattern by solely relying on the most recent observation but not any other samples in the distant past.\n",
    "Hmm... Maybe this does not make sense. What should we do?"
   ]
  },
  {
   "cell_type": "markdown",
   "id": "present-press",
   "metadata": {},
   "source": [
    "Aha! We could just aggregate more historical data. With a minor modification, we may have a slighly more complex model as:\n",
    "$$ \\hat{y_{t+1}} = \\frac{\\sum_{t=t_o}^T y_t}{T-t_o+1} $$"
   ]
  },
  {
   "cell_type": "markdown",
   "id": "african-ballot",
   "metadata": {},
   "source": [
    "where $t_o$ is the most distant time series value we take into consideration for the next one. When $t_o=1$, this is equivalent to forecasting using the average of all previous data. This is commonly known as a naive approach"
   ]
  },
  {
   "cell_type": "markdown",
   "id": "conditional-seventh",
   "metadata": {},
   "source": [
    "We may try this to see how well it performs. Let's say we try two different moving window lengths of 3 and 5, respectively:"
   ]
  },
  {
   "cell_type": "code",
   "execution_count": 18,
   "id": "fiscal-carroll",
   "metadata": {
    "ExecuteTime": {
     "end_time": "2022-02-17T15:27:15.780045Z",
     "start_time": "2022-02-17T15:27:15.771920Z"
    }
   },
   "outputs": [],
   "source": [
    "closing_price = google_stock.set_index('Date')[['Close']].copy()\n",
    "closing_price.index = pd.to_datetime(closing_price.index)\n",
    "# aggregate the time series by month\n",
    "closing_price = closing_price.resample('D').mean()"
   ]
  },
  {
   "cell_type": "code",
   "execution_count": 19,
   "id": "respective-blowing",
   "metadata": {
    "ExecuteTime": {
     "end_time": "2022-02-17T15:27:16.629217Z",
     "start_time": "2022-02-17T15:27:15.781558Z"
    }
   },
   "outputs": [],
   "source": [
    "ma_windows = 3\n",
    "closing_price_3 = [None] * ma_windows\n",
    "for i in range(ma_windows, closing_price.size):\n",
    "    closing_price_3.append(closing_price[i-ma_windows:i].mean())"
   ]
  },
  {
   "cell_type": "code",
   "execution_count": 20,
   "id": "further-program",
   "metadata": {
    "ExecuteTime": {
     "end_time": "2022-02-17T15:27:17.382249Z",
     "start_time": "2022-02-17T15:27:16.630461Z"
    }
   },
   "outputs": [],
   "source": [
    "ma_windows = 5\n",
    "closing_price_5 = [None]*ma_windows + [closing_price[i-ma_windows:i].mean()\\\n",
    "                                       for i in range(ma_windows, closing_price.size)]"
   ]
  },
  {
   "cell_type": "code",
   "execution_count": 21,
   "id": "dangerous-talent",
   "metadata": {
    "ExecuteTime": {
     "end_time": "2022-02-17T15:27:17.387093Z",
     "start_time": "2022-02-17T15:27:17.383336Z"
    }
   },
   "outputs": [
    {
     "data": {
      "text/plain": [
       "(1825, 1825, 1825)"
      ]
     },
     "execution_count": 21,
     "metadata": {},
     "output_type": "execute_result"
    }
   ],
   "source": [
    "closing_price.size, len(closing_price_3), len(closing_price_5)"
   ]
  },
  {
   "cell_type": "code",
   "execution_count": 22,
   "id": "disciplinary-dialogue",
   "metadata": {
    "ExecuteTime": {
     "end_time": "2022-02-17T15:27:17.661789Z",
     "start_time": "2022-02-17T15:27:17.388607Z"
    }
   },
   "outputs": [
    {
     "name": "stderr",
     "output_type": "stream",
     "text": [
      "/Users/zhiyzuo/.virtualenvs/py3/lib/python3.9/site-packages/numpy/ma/core.py:2825: VisibleDeprecationWarning: Creating an ndarray from ragged nested sequences (which is a list-or-tuple of lists-or-tuples-or ndarrays with different lengths or shapes) is deprecated. If you meant to do this, you must specify 'dtype=object' when creating the ndarray.\n",
      "  _data = np.array(data, dtype=dtype, copy=copy,\n",
      "/Users/zhiyzuo/.virtualenvs/py3/lib/python3.9/site-packages/numpy/ma/core.py:2825: VisibleDeprecationWarning: Creating an ndarray from ragged nested sequences (which is a list-or-tuple of lists-or-tuples-or ndarrays with different lengths or shapes) is deprecated. If you meant to do this, you must specify 'dtype=object' when creating the ndarray.\n",
      "  _data = np.array(data, dtype=dtype, copy=copy,\n"
     ]
    },
    {
     "data": {
      "image/png": "[encoded data removed]",
      "text/plain": [
       "<Figure size 864x360 with 1 Axes>"
      ]
     },
     "metadata": {
      "needs_background": "light"
     },
     "output_type": "display_data"
    }
   ],
   "source": [
    "fig, ax = plt.subplots(figsize=[12, 5])\n",
    "ax.plot(closing_price.index, closing_price.values,\n",
    "        linestyle='--', linewidth=1,\n",
    "        label='Observation', color='k')\n",
    "ax.scatter(closing_price.index, closing_price_3,\n",
    "           label='MA(3)', s=10, marker='.', color='r')\n",
    "ax.scatter(closing_price.index, closing_price_5,\n",
    "           label='MA(5)', s=30, marker='+', color='pink')\n",
    "_ = ax.legend(prop={'size': 14})"
   ]
  },
  {
   "cell_type": "markdown",
   "id": "affecting-barrier",
   "metadata": {},
   "source": [
    "To make it easier to see, let's use monthly closing price instead"
   ]
  },
  {
   "cell_type": "code",
   "execution_count": 23,
   "id": "facial-retrieval",
   "metadata": {
    "ExecuteTime": {
     "end_time": "2022-02-17T15:27:17.670902Z",
     "start_time": "2022-02-17T15:27:17.662938Z"
    }
   },
   "outputs": [
    {
     "data": {
      "text/plain": [
       "Date\n",
       "2017-02-28    825.980003\n",
       "2017-03-31    834.111307\n",
       "Freq: M, Name: Close, dtype: float64"
      ]
     },
     "execution_count": 23,
     "metadata": {},
     "output_type": "execute_result"
    }
   ],
   "source": [
    "closing_price.index = pd.to_datetime(closing_price.index)\n",
    "closing_price_monthly = closing_price['Close'].resample('M').mean()\n",
    "closing_price_monthly.head(2)"
   ]
  },
  {
   "cell_type": "code",
   "execution_count": 24,
   "id": "parallel-logistics",
   "metadata": {
    "ExecuteTime": {
     "end_time": "2022-02-17T15:27:17.686006Z",
     "start_time": "2022-02-17T15:27:17.672709Z"
    }
   },
   "outputs": [],
   "source": [
    "ma_windows = 3\n",
    "closing_price_3 = [None] * ma_windows\n",
    "for i in range(ma_windows, closing_price_monthly.size):\n",
    "    closing_price_3.append(closing_price_monthly[i-ma_windows:i].mean())"
   ]
  },
  {
   "cell_type": "code",
   "execution_count": 25,
   "id": "equal-distribution",
   "metadata": {
    "ExecuteTime": {
     "end_time": "2022-02-17T15:27:17.700234Z",
     "start_time": "2022-02-17T15:27:17.687172Z"
    }
   },
   "outputs": [],
   "source": [
    "ma_windows = 5\n",
    "closing_price_5 = [None]*ma_windows + [closing_price_monthly[i-ma_windows:i].mean()\\\n",
    "                                       for i in range(ma_windows, closing_price_monthly.size)]"
   ]
  },
  {
   "cell_type": "code",
   "execution_count": 26,
   "id": "reduced-timeline",
   "metadata": {
    "ExecuteTime": {
     "end_time": "2022-02-17T15:27:17.865401Z",
     "start_time": "2022-02-17T15:27:17.701455Z"
    }
   },
   "outputs": [
    {
     "data": {
      "image/png": "[encoded data removed]",
      "text/plain": [
       "<Figure size 864x360 with 1 Axes>"
      ]
     },
     "metadata": {
      "needs_background": "light"
     },
     "output_type": "display_data"
    }
   ],
   "source": [
    "fig, ax = plt.subplots(figsize=[12, 5])\n",
    "ax.plot(closing_price_monthly.index,\n",
    "        closing_price_monthly.values,\n",
    "        linestyle='--', linewidth=1,\n",
    "        label='Observation', color='k')\n",
    "ax.scatter(closing_price_monthly.index, closing_price_3,\n",
    "           label='MA(3)', s=50, marker='.', color='navy')\n",
    "ax.scatter(closing_price_monthly.index, closing_price_5,\n",
    "           label='MA(5)', s=50, marker='+', color='red')\n",
    "_ = ax.legend(prop={'size': 14})"
   ]
  },
  {
   "cell_type": "markdown",
   "id": "frequent-shakespeare",
   "metadata": {},
   "source": [
    "Looking cool!"
   ]
  },
  {
   "cell_type": "markdown",
   "id": "bulgarian-trainer",
   "metadata": {},
   "source": [
    "## Simple exponential smoothing"
   ]
  },
  {
   "cell_type": "markdown",
   "id": "bottom-dining",
   "metadata": {},
   "source": [
    "But another question is on identifying a proper way to weight the extent to which historical data at various time points should have on a future target. Our moving average approach is in effect a specific case which applies equal weights to each past data regardless how much they are far apart from the present within a given moving window."
   ]
  },
  {
   "cell_type": "markdown",
   "id": "potential-requirement",
   "metadata": {},
   "source": [
    "Intuitively, we may want to place more emphasis on recent observations than those in the distant past. Based on this heuristics, we have the simple exponential smoothing model:"
   ]
  },
  {
   "cell_type": "markdown",
   "id": "quality-airline",
   "metadata": {},
   "source": [
    "$$ \\hat{y_{t+1}} =\\alpha y_t + \\alpha(1-\\alpha)y_{t-1} + \\alpha(1-\\alpha)^2y_{t-2} + \\ldots$$"
   ]
  },
  {
   "cell_type": "markdown",
   "id": "entire-briefing",
   "metadata": {},
   "source": [
    "where $\\alpha$ is the smoothing parameter that controls time series weight. The larger it is, the faster the weight decays. To see this, we may come up with a table using various $\\alpha$ values:"
   ]
  },
  {
   "cell_type": "code",
   "execution_count": 27,
   "id": "convertible-nepal",
   "metadata": {
    "ExecuteTime": {
     "end_time": "2022-02-17T15:27:18.230060Z",
     "start_time": "2022-02-17T15:27:17.866545Z"
    }
   },
   "outputs": [
    {
     "data": {
      "text/plain": [
       "<matplotlib.legend.Legend at 0x13bf597c0>"
      ]
     },
     "execution_count": 27,
     "metadata": {},
     "output_type": "execute_result"
    },
    {
     "data": {
      "image/png": "[encoded data removed]",
      "text/plain": [
       "<Figure size 576x360 with 1 Axes>"
      ]
     },
     "metadata": {
      "needs_background": "light"
     },
     "output_type": "display_data"
    }
   ],
   "source": [
    "fig, ax = plt.subplots(figsize=[8, 5])\n",
    "color_list = ['k', 'r', 'pink', 'lightgray']\n",
    "for j, alpha in enumerate([0.1, 0.5, 0.75, 0.9]):\n",
    "    alpha_list = list()\n",
    "    for i in range(5): \n",
    "        coef_i = alpha*((1-alpha)**i)\n",
    "        alpha_list.append(coef_i)\n",
    "    ax.plot(range(5), alpha_list, label='%.2f'%alpha, color=color_list[j])\n",
    "    ax.scatter(range(5), alpha_list, color=color_list[j])\n",
    "ax.set_ylabel('Coefficient Values')\n",
    "ax.set_xlabel('Lagged time series')\n",
    "ax.set_xticks(range(5))\n",
    "ax.set_xticklabels(['$y_t$'] + ['$y_{t-%i}$'%i for i in range(1,5)],\n",
    "                   size=12)\n",
    "ax.legend()"
   ]
  },
  {
   "cell_type": "markdown",
   "id": "broke-calgary",
   "metadata": {},
   "source": [
    "Sometimes you may encounter an alternative formulation of the simple exponential smoothing form known as the _component form_ which decomposes the model into two equations:\n",
    "- Forecast equation: $\\hat{y_{t+1}} = l_t$, which indicates that the forecast for time $t+1$ depends on the _level_ $l_t$ at time $t$....\n",
    "- Smoothing (or level) equation: $l_t=\\alpha y_t+ (1-\\alpha)l_{t-1}$ which indicates that the level at time $t$ is proportional to the current observation as well as past levels; $\\alpha$ is the smoothing parameter."
   ]
  },
  {
   "cell_type": "markdown",
   "id": "victorian-arthritis",
   "metadata": {},
   "source": [
    "By iteratively inserting values into the forecast function, we eventually obtain the same equation as above:"
   ]
  },
  {
   "cell_type": "markdown",
   "id": "breathing-resolution",
   "metadata": {},
   "source": [
    "$$\n",
    "\\begin{align}\n",
    "\\hat{y_{t+1}} &= \\alpha y_t + (1-\\alpha)l_{t-1}  \\\\\n",
    "&= \\alpha y_t + (1-\\alpha)[\\alpha y_{t-1} + (1-\\alpha)l_{t-2}] \\\\\n",
    "&= \\alpha y_t + \\alpha(1-\\alpha)y_{t-1} + (1-\\alpha)^2[\\alpha y_{t-2} + (1-\\alpha)l_{t-3}] \\\\\n",
    "&= \\ldots \\\\\n",
    "&= \\sum_{T} \\alpha(1-\\alpha)^{t-T} y_{T}\n",
    "\\end{align}\n",
    "$$"
   ]
  },
  {
   "cell_type": "markdown",
   "id": "legal-dubai",
   "metadata": {},
   "source": [
    "How about we try it as well? Given the inclusion of this weight component $\\alpha$, how would it be different? Let's try to make use of `statsmodels`'s `tsa` API to play with it:"
   ]
  },
  {
   "cell_type": "markdown",
   "id": "floppy-ideal",
   "metadata": {},
   "source": [
    "As we shall see later, all the exponential smoothing models can be aggregated into a generalized time series model, the Error-Trend-Seasonality (ETS) model. In this example, we will directly use the `ETSModel` API from the `statsmodels`:"
   ]
  },
  {
   "cell_type": "code",
   "execution_count": 28,
   "id": "smaller-drama",
   "metadata": {
    "ExecuteTime": {
     "end_time": "2022-02-17T15:27:18.249525Z",
     "start_time": "2022-02-17T15:27:18.236358Z"
    }
   },
   "outputs": [
    {
     "name": "stdout",
     "output_type": "stream",
     "text": [
      "RUNNING THE L-BFGS-B CODE\n",
      "\n",
      "           * * *\n",
      "\n",
      "Machine precision = 2.220D-16\n",
      " N =            2     M =           10\n",
      "\n",
      "At X0         1 variables are exactly at the bounds\n",
      "\n",
      "At iterate    0    f=  5.92646D+00    |proj g|=  1.62537D-05\n",
      "\n",
      "At iterate    1    f=  5.92646D+00    |proj g|=  1.62537D-05\n",
      "\n",
      "           * * *\n",
      "\n",
      "Tit   = total number of iterations\n",
      "Tnf   = total number of function evaluations\n",
      "Tnint = total number of segments explored during Cauchy searches\n",
      "Skip  = number of BFGS updates skipped\n",
      "Nact  = number of active bounds at final generalized Cauchy point\n",
      "Projg = norm of the final projected gradient\n",
      "F     = final function value\n",
      "\n",
      "           * * *\n",
      "\n",
      "   N    Tit     Tnf  Tnint  Skip  Nact     Projg        F\n",
      "    2      1      2      1     0     1   1.625D-05   5.926D+00\n",
      "  F =   5.9264594789593597     \n",
      "\n",
      "CONVERGENCE: REL_REDUCTION_OF_F_<=_FACTR*EPSMCH             \n"
     ]
    }
   ],
   "source": [
    "sim_exp = sm.tsa.ETSModel(closing_price_monthly, error='add')\n",
    "sim_exp = sim_exp.fit(closing_price_monthly)"
   ]
  },
  {
   "cell_type": "code",
   "execution_count": 29,
   "id": "straight-indiana",
   "metadata": {
    "ExecuteTime": {
     "end_time": "2022-02-17T15:27:18.254460Z",
     "start_time": "2022-02-17T15:27:18.251290Z"
    }
   },
   "outputs": [
    {
     "data": {
      "text/plain": [
       "0.9999"
      ]
     },
     "execution_count": 29,
     "metadata": {},
     "output_type": "execute_result"
    }
   ],
   "source": [
    "# the smoothing parameter: rapid decay\n",
    "sim_exp.alpha"
   ]
  },
  {
   "cell_type": "code",
   "execution_count": 30,
   "id": "wireless-furniture",
   "metadata": {
    "ExecuteTime": {
     "end_time": "2022-02-17T15:27:18.453828Z",
     "start_time": "2022-02-17T15:27:18.256234Z"
    }
   },
   "outputs": [
    {
     "data": {
      "image/png": "[encoded data removed]",
      "text/plain": [
       "<Figure size 864x360 with 1 Axes>"
      ]
     },
     "metadata": {
      "needs_background": "light"
     },
     "output_type": "display_data"
    }
   ],
   "source": [
    "fig, ax = plt.subplots(figsize=[12, 5])\n",
    "ax.plot(closing_price_monthly.index, closing_price_monthly.values,\n",
    "        linestyle='--', linewidth=1,\n",
    "        label='Observation', color='k')\n",
    "ax.scatter(closing_price_monthly.index, sim_exp.fittedvalues,\n",
    "           label='Simple Exp', s=50, marker='x', color='red')\n",
    "ax.set_ylabel('Monthly Closing Price')\n",
    "_ = ax.legend(prop={'size': 14})"
   ]
  },
  {
   "cell_type": "markdown",
   "id": "personal-denver",
   "metadata": {},
   "source": [
    "## The drawback: Flat Prediction"
   ]
  },
  {
   "cell_type": "markdown",
   "id": "pleased-electricity",
   "metadata": {},
   "source": [
    "Both naive approach simple exponential smoothing go beyond the naive approach, in which the forecast of any future values depend is estimated as the most recent observation. Nonethless, both forecasts still suffer from a critical issue: a flat forecast, i.e., the same prediction value no matter how far away we are looking into. \n",
    "Using mathematical language, we may formulate this as:"
   ]
  },
  {
   "cell_type": "markdown",
   "id": "differential-municipality",
   "metadata": {},
   "source": [
    "$$ \\hat{y_{t+h}} = \\hat{y_{t+1}};~~h\\geq2$$"
   ]
  },
  {
   "cell_type": "markdown",
   "id": "backed-seattle",
   "metadata": {},
   "source": [
    "In other words, no matter how far away we are trying to look into, we are producing the same prediction value, i.e., the prediction on the next time step. This implies that such a forecast assumes a lack of trend or seasonality components in the given time series data."
   ]
  },
  {
   "cell_type": "markdown",
   "id": "diverse-engine",
   "metadata": {},
   "source": [
    "## Captureing trends: Holt's method"
   ]
  },
  {
   "cell_type": "markdown",
   "id": "final-relative",
   "metadata": {},
   "source": [
    "What could we do to make the simple exponential model more useful such that it could be used to forecast future values? The statistician Charles Holt introduced an extention to incorporate the trend component into the model. Formally, a time series forecast model is formulated as:\n",
    "- Forecast equation: $\\hat{y_{t+h}} = l_t + hb_t$\n",
    "- Smoothing (level) equation: $ l_t = \\alpha y_t + (1-\\alpha) (l_{t-1} + b_{t-1})$\n",
    "- Trend equation: $b_t = \\beta^{*}(l_t-l_{t-1}) + (1-\\beta^{*})b_{t-1} $ "
   ]
  },
  {
   "cell_type": "markdown",
   "id": "ordinary-enforcement",
   "metadata": {},
   "source": [
    "where there are two new parameters: (i) $b_t$ denotes the changing trend or the slope and (ii) $\\beta^{*}$ is the smoothing parameter for the temporal trend $b_t$. Recall that $\\alpha$ is the smoothing parameter controlling how fast weight will decay into the past while $l_t$ is the time series level. While it looks strange at first sight, let's decompose the terms one by one to better understand it."
   ]
  },
  {
   "cell_type": "markdown",
   "id": "bigger-fossil",
   "metadata": {},
   "source": [
    "First, we may observe that the second term in the smoothing equation is $l_{t-1}+b_{t-1}=\\hat{y_{t}}$ and thus:\n",
    "$$ l_t=\\alpha y_t +  (1-\\alpha) \\hat{y_t}$$\n",
    "Thus the time series level $l_t$ is measured as the weighted average between the current observation and its predicted value using prior information up till time $t-1$."
   ]
  },
  {
   "cell_type": "markdown",
   "id": "unsigned-measurement",
   "metadata": {},
   "source": [
    "Then we could proceed to investigate the trend component, which at the first sight is the weighted average between the current level change and the prior trend estimate:\n",
    "$$ \n",
    "\\begin{align}\n",
    "b_t &=\\beta^{*}(l_t-l_{t-1}) + (1-\\beta^{*})[\\beta^{*}(l_{t-1}-l_{t-2}) + (1-\\beta^{*})b_{t-2}] \\\\\n",
    "&= \\beta^{*}(l_t-l_{t-1}) + \\beta^{*}(1-\\beta^{*})(l_{t-1}-l_{t-2}) + (1-\\beta^{*})^2b_{t-2}\n",
    "\\end{align}\n",
    "$$"
   ]
  },
  {
   "cell_type": "markdown",
   "id": "colonial-rover",
   "metadata": {},
   "source": [
    "Now let's stop... Hey! Isn't this just the same as the simple exponential smoothing? In other words, this model design estimates the trend component in a similar fashion as the exponential smoothing model on target forecasting without any trend:\n",
    "$$ b_t= \\sum_{T} \\beta^{*}(1-\\beta^{*})^{t-T} (l_{t-T} - l_{t-T-1}) $$"
   ]
  },
  {
   "cell_type": "markdown",
   "id": "bound-consideration",
   "metadata": {},
   "source": [
    "Now, because of the existence of the term $hb_t$, forecasts into the future will be changing rather than fixed. Specficially, it will grow linearly with a rate of $h$, which is the time units away from the current time step."
   ]
  },
  {
   "cell_type": "markdown",
   "id": "signed-yemen",
   "metadata": {},
   "source": [
    "Let's see how it works out:"
   ]
  },
  {
   "cell_type": "code",
   "execution_count": 31,
   "id": "worldwide-championship",
   "metadata": {
    "ExecuteTime": {
     "end_time": "2022-02-17T15:27:18.487841Z",
     "start_time": "2022-02-17T15:27:18.455013Z"
    }
   },
   "outputs": [
    {
     "name": "stdout",
     "output_type": "stream",
     "text": [
      "RUNNING THE L-BFGS-B CODE\n",
      "\n",
      "           * * *\n",
      "\n",
      "Machine precision = 2.220D-16\n",
      " N =            4     M =           10\n",
      "\n",
      "At X0         2 variables are exactly at the bounds\n",
      "\n",
      "At iterate    0    f=  6.54073D+00    |proj g|=  3.67651D-01\n",
      "\n",
      "At iterate    1    f=  6.52040D+00    |proj g|=  5.66152D-02\n",
      "\n",
      "At iterate    2    f=  6.51939D+00    |proj g|=  5.06357D-02\n",
      "\n",
      "At iterate    3    f=  6.51302D+00    |proj g|=  6.82115D-02\n",
      "\n",
      "At iterate    4    f=  6.51027D+00    |proj g|=  1.84561D-03\n",
      "\n",
      "At iterate    5    f=  6.51018D+00    |proj g|=  6.34514D-04\n",
      "\n",
      "At iterate    6    f=  6.51017D+00    |proj g|=  1.07585D-03\n",
      "\n",
      "At iterate    7    f=  6.51008D+00    |proj g|=  7.85221D-03\n",
      "\n",
      "At iterate    8    f=  6.50988D+00    |proj g|=  1.70311D-02\n",
      "\n",
      "At iterate    9    f=  6.50933D+00    |proj g|=  3.26340D-02\n",
      "\n",
      "At iterate   10    f=  6.50793D+00    |proj g|=  5.65475D-02\n",
      "\n",
      "At iterate   11    f=  6.47469D+00    |proj g|=  4.56415D-02\n",
      "\n",
      "At iterate   12    f=  6.27454D+00    |proj g|=  4.38774D-01\n",
      "\n",
      "At iterate   13    f=  6.10996D+00    |proj g|=  1.31026D-01\n",
      "\n",
      "At iterate   14    f=  6.10678D+00    |proj g|=  1.17743D-02\n",
      "\n",
      "At iterate   15    f=  6.10637D+00    |proj g|=  4.52616D-03\n",
      "\n",
      "At iterate   16    f=  6.10635D+00    |proj g|=  9.94227D-04\n",
      "\n",
      "At iterate   17    f=  6.10634D+00    |proj g|=  9.66960D-04\n",
      "\n",
      "At iterate   18    f=  6.10634D+00    |proj g|=  1.95559D-03\n",
      "\n",
      "At iterate   19    f=  6.10632D+00    |proj g|=  3.93756D-03\n",
      "\n",
      "At iterate   20    f=  6.10630D+00    |proj g|=  6.72404D-03\n",
      "\n",
      "At iterate   21    f=  6.10622D+00    |proj g|=  1.16073D-02\n",
      "\n",
      "At iterate   22    f=  6.10604D+00    |proj g|=  1.89059D-02\n",
      "\n",
      "At iterate   23    f=  6.10555D+00    |proj g|=  3.06075D-02\n",
      "\n",
      "At iterate   24    f=  6.10432D+00    |proj g|=  4.74759D-02\n",
      "\n",
      "At iterate   25    f=  6.10128D+00    |proj g|=  6.71088D-02\n",
      "\n",
      "At iterate   26    f=  6.09518D+00    |proj g|=  1.28412D-01\n",
      "\n",
      "At iterate   27    f=  6.08843D+00    |proj g|=  1.37749D-01\n",
      "\n",
      "At iterate   28    f=  6.07645D+00    |proj g|=  1.17039D-01\n",
      "\n",
      "At iterate   29    f=  6.03922D+00    |proj g|=  1.87095D-01\n",
      "\n",
      "At iterate   30    f=  5.97949D+00    |proj g|=  2.63560D-01\n",
      "\n",
      "At iterate   31    f=  5.92169D+00    |proj g|=  2.44930D-01\n",
      "\n",
      "At iterate   32    f=  5.91382D+00    |proj g|=  1.74220D-01\n",
      "\n",
      "At iterate   33    f=  5.89674D+00    |proj g|=  8.87157D-02\n",
      "\n",
      "At iterate   34    f=  5.86796D+00    |proj g|=  1.07144D-01\n",
      "\n",
      "At iterate   35    f=  5.85831D+00    |proj g|=  7.02283D-04\n",
      "  ys=-1.157E-02  -gs= 1.779E-02 BFGS update SKIPPED\n",
      "\n",
      "At iterate   36    f=  5.85658D+00    |proj g|=  7.25642D-05\n",
      "\n",
      "At iterate   37    f=  5.85646D+00    |proj g|=  1.06581D-06\n",
      "\n",
      "           * * *\n",
      "\n",
      "Tit   = total number of iterations\n",
      "Tnf   = total number of function evaluations\n",
      "Tnint = total number of segments explored during Cauchy searches\n",
      "Skip  = number of BFGS updates skipped\n",
      "Nact  = number of active bounds at final generalized Cauchy point\n",
      "Projg = norm of the final projected gradient\n",
      "F     = final function value\n",
      "\n",
      "           * * *\n",
      "\n",
      "   N    Tit     Tnf  Tnint  Skip  Nact     Projg        F\n",
      "    4     37     48     40     1     2   1.066D-06   5.856D+00\n",
      "  F =   5.8564573880430579     \n",
      "\n",
      "CONVERGENCE: NORM_OF_PROJECTED_GRADIENT_<=_PGTOL            \n"
     ]
    }
   ],
   "source": [
    "holt_exp = sm.tsa.ETSModel(closing_price_monthly, error='add', trend='add')\n",
    "holt_exp = holt_exp.fit(closing_price_monthly, maxiter=1e5)"
   ]
  },
  {
   "cell_type": "code",
   "execution_count": 32,
   "id": "sorted-gentleman",
   "metadata": {
    "ExecuteTime": {
     "end_time": "2022-02-17T15:27:18.492630Z",
     "start_time": "2022-02-17T15:27:18.489189Z"
    }
   },
   "outputs": [
    {
     "data": {
      "text/plain": [
       "(0.9999, 0.0001)"
      ]
     },
     "execution_count": 32,
     "metadata": {},
     "output_type": "execute_result"
    }
   ],
   "source": [
    "holt_exp.alpha, holt_exp.beta.round(6)"
   ]
  },
  {
   "cell_type": "code",
   "execution_count": 33,
   "id": "lesbian-finance",
   "metadata": {
    "ExecuteTime": {
     "end_time": "2022-02-17T15:27:18.658054Z",
     "start_time": "2022-02-17T15:27:18.494125Z"
    }
   },
   "outputs": [
    {
     "data": {
      "image/png": "[encoded data removed]",
      "text/plain": [
       "<Figure size 864x360 with 1 Axes>"
      ]
     },
     "metadata": {
      "needs_background": "light"
     },
     "output_type": "display_data"
    }
   ],
   "source": [
    "fig, ax = plt.subplots(figsize=[12, 5])\n",
    "ax.plot(closing_price_monthly.index, closing_price_monthly.values,\n",
    "        linestyle='--', linewidth=1,\n",
    "        label='Observation', color='k')\n",
    "ax.scatter(closing_price_monthly.index, sim_exp.fittedvalues,\n",
    "           label='Simple Exp', s=50, marker='x', color='red')\n",
    "ax.scatter(closing_price_monthly.index, holt_exp.fittedvalues,\n",
    "           label='Exp w/ Trend (Holt\\'s Model)', s=50, marker='.', color='navy')\n",
    "ax.set_ylabel('Monthly Closing Price')\n",
    "_ = ax.legend(prop={'size': 14})"
   ]
  },
  {
   "cell_type": "markdown",
   "id": "dried-heading",
   "metadata": {},
   "source": [
    "Then you may ask - _Is it true that the trend is constant (fixed) over time_? Likely not. Both intuition and empirical evidence have found evidence that such a constant trend formulation of a forecasting model may unncessarily overestimate future trends.\n",
    "A straightforward remedy then is to add another level of _decay_ nameas as a _damping parameter_ $\\phi \\in(0,1)$ on the trend component such that the three equations are changed into:\n",
    "- Forecast equation: $\\hat{y_{t+h}} = l_t + (\\phi+\\phi^2+\\ldots+\\phi^h)b_t$\n",
    "- Smoothing (level) equation: $ l_t = \\alpha y_t + (1-\\alpha) (l_{t-1} + \\phi b_{t-1})$\n",
    "- Trend equation: $b_t = \\beta^{*}(l_t-l_{t-1}) + (1-\\beta^{*})\\phi b_{t-1} $ "
   ]
  },
  {
   "cell_type": "markdown",
   "id": "occupied-coverage",
   "metadata": {},
   "source": [
    "If we set $\\phi=1$, i.e., no damping on the trend constant at all, this is then equivalent to the same old Holt's model.\n",
    "In addition, notice that as we move further into the future, we see that the trend effect will be decreased over time."
   ]
  },
  {
   "cell_type": "code",
   "execution_count": 34,
   "id": "sweet-techno",
   "metadata": {
    "ExecuteTime": {
     "end_time": "2022-02-17T15:27:18.708467Z",
     "start_time": "2022-02-17T15:27:18.659461Z"
    }
   },
   "outputs": [
    {
     "name": "stdout",
     "output_type": "stream",
     "text": [
      "RUNNING THE L-BFGS-B CODE\n",
      "\n",
      "           * * *\n",
      "\n",
      "Machine precision = 2.220D-16\n",
      " N =            5     M =           10\n",
      "\n",
      "At X0         3 variables are exactly at the bounds\n",
      "\n",
      "At iterate    0    f=  6.59056D+00    |proj g|=  4.32227D-01\n",
      "\n",
      "At iterate    1    f=  6.56785D+00    |proj g|=  4.32227D-01\n",
      "\n",
      "At iterate    2    f=  6.43424D+00    |proj g|=  2.06477D-01\n",
      "\n",
      "At iterate    3    f=  6.41958D+00    |proj g|=  4.56890D-02\n",
      "\n",
      "At iterate    4    f=  6.41881D+00    |proj g|=  4.00560D-02\n",
      "\n",
      "At iterate    5    f=  6.41303D+00    |proj g|=  4.25984D-02\n",
      "\n",
      "At iterate    6    f=  6.41111D+00    |proj g|=  1.28056D-02\n",
      "\n",
      "At iterate    7    f=  6.41057D+00    |proj g|=  8.18545D-04\n",
      "\n",
      "At iterate    8    f=  6.41057D+00    |proj g|=  5.94546D-04\n",
      "\n",
      "At iterate    9    f=  6.41057D+00    |proj g|=  5.94457D-04\n",
      "\n",
      "At iterate   10    f=  6.41057D+00    |proj g|=  9.76375D-04\n",
      "\n",
      "At iterate   11    f=  6.41056D+00    |proj g|=  2.05427D-03\n",
      "\n",
      "At iterate   12    f=  6.41055D+00    |proj g|=  3.86766D-03\n",
      "\n",
      "At iterate   13    f=  6.41053D+00    |proj g|=  6.77556D-03\n",
      "\n",
      "At iterate   14    f=  6.41046D+00    |proj g|=  1.15528D-02\n",
      "\n",
      "At iterate   15    f=  6.41027D+00    |proj g|=  1.93566D-02\n",
      "\n",
      "At iterate   16    f=  6.40977D+00    |proj g|=  3.23101D-02\n",
      "\n",
      "At iterate   17    f=  6.40847D+00    |proj g|=  5.39237D-02\n",
      "\n",
      "At iterate   18    f=  6.40495D+00    |proj g|=  9.14889D-02\n",
      "\n",
      "At iterate   19    f=  6.39545D+00    |proj g|=  1.59195D-01\n",
      "\n",
      "At iterate   20    f=  6.36871D+00    |proj g|=  2.94914D-01\n",
      "\n",
      "At iterate   21    f=  6.29033D+00    |proj g|=  6.12122D-01\n",
      "\n",
      "At iterate   22    f=  6.06482D+00    |proj g|=  7.69543D-01\n",
      "\n",
      "At iterate   23    f=  6.00592D+00    |proj g|=  2.09617D-02\n",
      "\n",
      "At iterate   24    f=  5.99760D+00    |proj g|=  5.33565D-02\n",
      "\n",
      "At iterate   25    f=  5.99433D+00    |proj g|=  2.49334D-02\n",
      "\n",
      "At iterate   26    f=  5.99417D+00    |proj g|=  1.43213D-02\n",
      "\n",
      "At iterate   27    f=  5.99408D+00    |proj g|=  8.64864D-03\n",
      "\n",
      "At iterate   28    f=  5.99404D+00    |proj g|=  7.41283D-03\n",
      "\n",
      "At iterate   29    f=  5.99398D+00    |proj g|=  2.62279D-04\n",
      "\n",
      "At iterate   30    f=  5.99398D+00    |proj g|=  2.62457D-04\n",
      "\n",
      "At iterate   31    f=  5.99398D+00    |proj g|=  3.48965D-04\n",
      "\n",
      "At iterate   32    f=  5.99397D+00    |proj g|=  9.88276D-04\n",
      "\n",
      "At iterate   33    f=  5.99397D+00    |proj g|=  1.91704D-03\n",
      "\n",
      "At iterate   34    f=  5.99395D+00    |proj g|=  3.47171D-03\n",
      "\n",
      "At iterate   35    f=  5.99390D+00    |proj g|=  6.09237D-03\n",
      "\n",
      "At iterate   36    f=  5.99377D+00    |proj g|=  1.03636D-02\n",
      "\n",
      "At iterate   37    f=  5.99345D+00    |proj g|=  1.67982D-02\n",
      "\n",
      "At iterate   38    f=  5.99263D+00    |proj g|=  2.68838D-02\n",
      "\n",
      "At iterate   39    f=  5.99052D+00    |proj g|=  4.14404D-02\n",
      "\n",
      "At iterate   40    f=  5.98532D+00    |proj g|=  7.22705D-02\n",
      "\n",
      "At iterate   41    f=  5.97319D+00    |proj g|=  8.04010D-02\n",
      "\n",
      "At iterate   42    f=  5.95730D+00    |proj g|=  2.25257D-01\n",
      "\n",
      "At iterate   43    f=  5.92873D+00    |proj g|=  1.19339D-01\n",
      "\n",
      "At iterate   44    f=  5.91704D+00    |proj g|=  9.09915D-02\n",
      "\n",
      "At iterate   45    f=  5.90316D+00    |proj g|=  8.19516D-02\n",
      "\n",
      "At iterate   46    f=  5.89412D+00    |proj g|=  5.61966D-02\n",
      "\n",
      "At iterate   47    f=  5.88902D+00    |proj g|=  6.46956D-02\n",
      "\n",
      "At iterate   48    f=  5.87574D+00    |proj g|=  8.11914D-02\n",
      "\n",
      "At iterate   49    f=  5.87422D+00    |proj g|=  9.89949D-02\n",
      "\n",
      "At iterate   50    f=  5.87115D+00    |proj g|=  1.12078D-01\n",
      "\n",
      "At iterate   51    f=  5.87051D+00    |proj g|=  1.18613D-01\n",
      "\n",
      "At iterate   52    f=  5.87012D+00    |proj g|=  1.44981D-01\n",
      "\n",
      "At iterate   53    f=  5.87004D+00    |proj g|=  1.51447D-01\n",
      "\n",
      "At iterate   54    f=  5.86970D+00    |proj g|=  1.67798D-01\n",
      "\n",
      "At iterate   55    f=  5.86671D+00    |proj g|=  2.22801D-01\n",
      "  ys=-1.239E-03  -gs= 5.105E-03 BFGS update SKIPPED\n",
      "\n",
      "At iterate   56    f=  5.86363D+00    |proj g|=  8.54902D-02\n",
      "\n",
      "At iterate   57    f=  5.86258D+00    |proj g|=  5.55049D-03\n",
      "\n",
      "At iterate   58    f=  5.86255D+00    |proj g|=  2.52163D-03\n",
      "\n",
      "At iterate   59    f=  5.86255D+00    |proj g|=  1.53921D-04\n",
      "\n",
      "At iterate   60    f=  5.86255D+00    |proj g|=  3.35731D-05\n",
      "\n",
      "           * * *\n",
      "\n",
      "Tit   = total number of iterations\n",
      "Tnf   = total number of function evaluations\n",
      "Tnint = total number of segments explored during Cauchy searches\n",
      "Skip  = number of BFGS updates skipped\n",
      "Nact  = number of active bounds at final generalized Cauchy point\n",
      "Projg = norm of the final projected gradient\n",
      "F     = final function value\n",
      "\n",
      "           * * *\n",
      "\n",
      "   N    Tit     Tnf  Tnint  Skip  Nact     Projg        F\n",
      "    5     60     73     62     1     2   3.357D-05   5.863D+00\n",
      "  F =   5.8625458467083353     \n",
      "\n",
      "CONVERGENCE: REL_REDUCTION_OF_F_<=_FACTR*EPSMCH             \n"
     ]
    }
   ],
   "source": [
    "holt_exp_damped = sm.tsa.ETSModel(closing_price_monthly, error='add', trend='add', damped_trend=True)\n",
    "holt_exp_damped = holt_exp_damped.fit(closing_price_monthly, maxiter=1e5)"
   ]
  },
  {
   "cell_type": "code",
   "execution_count": 35,
   "id": "honey-angola",
   "metadata": {
    "ExecuteTime": {
     "end_time": "2022-02-17T15:27:18.713073Z",
     "start_time": "2022-02-17T15:27:18.709841Z"
    }
   },
   "outputs": [
    {
     "data": {
      "text/plain": [
       "(0.9999, 0.087511, 0.98)"
      ]
     },
     "execution_count": 35,
     "metadata": {},
     "output_type": "execute_result"
    }
   ],
   "source": [
    "holt_exp_damped.alpha, holt_exp_damped.beta.round(6), holt_exp_damped.phi"
   ]
  },
  {
   "cell_type": "code",
   "execution_count": 36,
   "id": "theoretical-beast",
   "metadata": {
    "ExecuteTime": {
     "end_time": "2022-02-17T15:27:18.887234Z",
     "start_time": "2022-02-17T15:27:18.714439Z"
    }
   },
   "outputs": [
    {
     "data": {
      "image/png": "[encoded data removed]",
      "text/plain": [
       "<Figure size 864x360 with 1 Axes>"
      ]
     },
     "metadata": {
      "needs_background": "light"
     },
     "output_type": "display_data"
    }
   ],
   "source": [
    "fig, ax = plt.subplots(figsize=[12, 5])\n",
    "ax.plot(closing_price_monthly.index, closing_price_monthly.values,\n",
    "        linestyle='--', linewidth=1,\n",
    "        label='Observation', color='k')\n",
    "ax.scatter(closing_price_monthly.index, sim_exp.fittedvalues,\n",
    "           label='Simple Exp', s=50, marker='x', color='red')\n",
    "ax.scatter(closing_price_monthly.index, holt_exp.fittedvalues,\n",
    "           label='Exp w/ Trend (Holt\\'s Model)', s=50, marker='.', color='navy')\n",
    "ax.scatter(closing_price_monthly.index, holt_exp_damped.fittedvalues,\n",
    "           label='Exp w/ Trend (Holt\\'s Model Damped)', s=60, marker='+', color='SeaGreen')\n",
    "ax.set_ylabel('Monthly Closing Price')\n",
    "_ = ax.legend(prop={'size': 14})"
   ]
  },
  {
   "cell_type": "markdown",
   "id": "collaborative-sewing",
   "metadata": {},
   "source": [
    "## Captureing trends + seasonality: Holt-Winter's method"
   ]
  },
  {
   "cell_type": "markdown",
   "id": "e8162f3c",
   "metadata": {},
   "source": [
    "What's next, you may ask. Can we add more components to the model? Recall that theoretically, a time series dataset can be decomposed into three components:(i) seasonality; (ii) trend; (iii) remainder (it could include both random noise and uncaptured residual due to model deficiency). Obviously, there is just this one thing we did not have - __seaonsality__."
   ]
  },
  {
   "cell_type": "markdown",
   "id": "34258c31",
   "metadata": {},
   "source": [
    "And yes, as you may have already imaged, the way that we incorporte this model is to add another layer into our forecast framework.\n",
    "Nonetheless, one cavaet needs to be noted before we try to introduce a seasonality into the model, which is the mechanism.\n",
    "Recall that there are two types of time series decomposition: (i) additive and (ii) multiplicative, the choiec of which depends on how seasonality plays a role. \n",
    "Specifically, if the time series changes in a way that seasonality stays fixed over time, the former may be better and vice versa.\n",
    "Consequently, we may introduce two formulations of an exponential smoothing method for both scenarios.\n",
    "Note that seasonality refers to time series pattern within the _seasons_ of a year. If we foucs on quarters, we may set it to be $m=4$. Similarly, if we focus on monthly data, then $m=12$."
   ]
  },
  {
   "cell_type": "markdown",
   "id": "dca968ba",
   "metadata": {},
   "source": [
    "### Additive Form"
   ]
  },
  {
   "cell_type": "markdown",
   "id": "0e2b43a2",
   "metadata": {},
   "source": [
    "When additive is deemd to be better, we write the extended model considering both trend and seasonality as:\n",
    "- Forecast equation: $ \\hat{y_{h+t}} =l_t + hb_t + s_{t+h-m(k+1)} $\n",
    "- Smoothing (level) equation: $l_t = \\alpha(y_t - s_{t-m}) + (1-\\alpha) (l_{t-1} + b_{t-1})$\n",
    "- Trend equation: $b_t = \\beta^{*}(l_t-l_{t-1}) + (1-\\beta^{*}) b_{t-1} $\n",
    "- Seasonality equation: $s_t = \\gamma(y_t-l_{t-1}-b_{t-1}) + (1-\\gamma)s_{t-m}$\n",
    "\n",
    "where $k$ is the integer (the number excluding the decimal part) of $(h-1)/m$."
   ]
  },
  {
   "cell_type": "markdown",
   "id": "9db3089a",
   "metadata": {},
   "source": [
    "### Multiplicative Form"
   ]
  },
  {
   "cell_type": "markdown",
   "id": "musical-neighbor",
   "metadata": {},
   "source": [
    "---"
   ]
  },
  {
   "cell_type": "markdown",
   "id": "declared-condition",
   "metadata": {},
   "source": [
    "# Evaluation"
   ]
  },
  {
   "cell_type": "markdown",
   "id": "animal-coalition",
   "metadata": {},
   "source": [
    "So far we haven't really do any forecasting but just training (i.e. fitting the model) only. How do we properly evaluate the predictive performance?\n",
    "Recall that in the previous week, we discuss the performance evaluation by partitioning our data into different folds such that one part of it can be used to tune the parameter while the remaining part is for investigation on whether the tuned parameter indeed makes satisfactory prediction."
   ]
  },
  {
   "cell_type": "markdown",
   "id": "classified-heath",
   "metadata": {},
   "source": [
    "Specifically, one commonly adopted approach is _cross validaion_, in which datasets are randomly split into equal size folds for training and testing respectively. This is perfectly fine in a cross sectional data where either there is no temporal order within the dataset or temporal order is meaningless for the given task. \n",
    "On the contrary, this does not hold in a time series forecasting task, which at its core is highly sensitive to the temporal sequences."
   ]
  },
  {
   "cell_type": "markdown",
   "id": "weighted-recovery",
   "metadata": {},
   "source": [
    "## Fixed partition"
   ]
  },
  {
   "cell_type": "markdown",
   "id": "equivalent-estimate",
   "metadata": {},
   "source": [
    "Well, if random participation does not work in time series, we can just split the data into a training and testing dataset with the former observed prior to the latter. In other words, an intuitive way is to force sampling \"older\" samples for the training set and more recent samples for the testing set. For instance, in the Google stock dataset, we could simply do:"
   ]
  },
  {
   "cell_type": "code",
   "execution_count": 37,
   "id": "charming-diploma",
   "metadata": {
    "ExecuteTime": {
     "end_time": "2022-02-17T15:27:18.893086Z",
     "start_time": "2022-02-17T15:27:18.888784Z"
    }
   },
   "outputs": [
    {
     "data": {
      "text/plain": [
       "Date\n",
       "2017-02-28    825.980003\n",
       "2017-03-31    834.111307\n",
       "2017-04-30    844.056840\n",
       "2017-05-31    939.284085\n",
       "2017-06-30    953.766823\n",
       "Freq: M, Name: Close, dtype: float64"
      ]
     },
     "execution_count": 37,
     "metadata": {},
     "output_type": "execute_result"
    }
   ],
   "source": [
    "# make sure that the dataset is ordered chronologically\n",
    "closing_price_monthly.sort_index(inplace=True) \n",
    "closing_price_monthly.head()"
   ]
  },
  {
   "cell_type": "markdown",
   "id": "adjustable-coverage",
   "metadata": {},
   "source": [
    "We can then use the data with smaller indices as training set and those with larger indices as testing set. A commonly adopted ratio is 8:2."
   ]
  },
  {
   "cell_type": "code",
   "execution_count": 38,
   "id": "ranking-honduras",
   "metadata": {
    "ExecuteTime": {
     "end_time": "2022-02-17T15:27:18.901181Z",
     "start_time": "2022-02-17T15:27:18.894339Z"
    }
   },
   "outputs": [
    {
     "name": "stdout",
     "output_type": "stream",
     "text": [
      "# of missing values: 0\n"
     ]
    }
   ],
   "source": [
    "closing_price_week = closing_price.resample('W').mean()['Close']\n",
    "# if check any missing values\n",
    "print('# of missing values: %i'%closing_price_week.isnull().sum())"
   ]
  },
  {
   "cell_type": "code",
   "execution_count": 39,
   "id": "incredible-russian",
   "metadata": {
    "ExecuteTime": {
     "end_time": "2022-02-17T15:27:18.905340Z",
     "start_time": "2022-02-17T15:27:18.902577Z"
    }
   },
   "outputs": [
    {
     "name": "stdout",
     "output_type": "stream",
     "text": [
      "Training vs. testing: 221 vs. 40\n"
     ]
    }
   ],
   "source": [
    "N_train = int(0.85 * closing_price_week.size)\n",
    "N_test = closing_price_week.size - N_train\n",
    "print('Training vs. testing: %i vs. %i'%(N_train, N_test))"
   ]
  },
  {
   "cell_type": "code",
   "execution_count": 40,
   "id": "talented-glossary",
   "metadata": {
    "ExecuteTime": {
     "end_time": "2022-02-17T15:27:18.910428Z",
     "start_time": "2022-02-17T15:27:18.906701Z"
    }
   },
   "outputs": [
    {
     "data": {
      "text/plain": [
       "(221, 40)"
      ]
     },
     "execution_count": 40,
     "metadata": {},
     "output_type": "execute_result"
    }
   ],
   "source": [
    "price_train = closing_price_week.iloc[:N_train]\n",
    "price_test = closing_price_week.iloc[N_train:]\n",
    "price_train.size, price_test.size"
   ]
  },
  {
   "cell_type": "code",
   "execution_count": 41,
   "id": "historic-washington",
   "metadata": {
    "ExecuteTime": {
     "end_time": "2022-02-17T15:27:19.070744Z",
     "start_time": "2022-02-17T15:27:18.911727Z"
    }
   },
   "outputs": [
    {
     "data": {
      "text/plain": [
       "<matplotlib.legend.Legend at 0x13b766190>"
      ]
     },
     "execution_count": 41,
     "metadata": {},
     "output_type": "execute_result"
    },
    {
     "data": {
      "image/png": "[encoded data removed]",
      "text/plain": [
       "<Figure size 720x288 with 1 Axes>"
      ]
     },
     "metadata": {
      "needs_background": "light"
     },
     "output_type": "display_data"
    }
   ],
   "source": [
    "# visualize the training vs. test\n",
    "fig, ax = plt.subplots(figsize=[10,4])\n",
    "ax.scatter(price_train.index, price_train.values,\n",
    "           marker='.', s=20,\n",
    "           color='k', label='Train')\n",
    "ax.scatter(price_test.index, price_test.values,\n",
    "           marker='.', s=20,\n",
    "           color='r', label='Test')\n",
    "ax.legend(prop={'size': 14})"
   ]
  },
  {
   "cell_type": "markdown",
   "id": "sapphire-passion",
   "metadata": {},
   "source": [
    "Let's run all the above models one this sequence and compare their _out-of-sample fit_ using mean squared errors:"
   ]
  },
  {
   "cell_type": "code",
   "execution_count": 42,
   "id": "objective-mounting",
   "metadata": {
    "ExecuteTime": {
     "end_time": "2022-02-17T15:27:19.074767Z",
     "start_time": "2022-02-17T15:27:19.072023Z"
    }
   },
   "outputs": [],
   "source": [
    "# naive method: prediction using the last observation\n",
    "price_pred_naive = pd.Series([price_train.values[-1]]*N_test,\n",
    "                             index=price_test.index)"
   ]
  },
  {
   "cell_type": "code",
   "execution_count": 43,
   "id": "solved-invasion",
   "metadata": {
    "ExecuteTime": {
     "end_time": "2022-02-17T15:27:19.094781Z",
     "start_time": "2022-02-17T15:27:19.076148Z"
    }
   },
   "outputs": [
    {
     "name": "stdout",
     "output_type": "stream",
     "text": [
      "RUNNING THE L-BFGS-B CODE\n",
      "\n",
      "           * * *\n",
      "\n",
      "Machine precision = 2.220D-16\n",
      " N =            2     M =           10\n",
      "\n",
      "At X0         0 variables are exactly at the bounds\n",
      "\n",
      "At iterate    0    f=  6.10515D+00    |proj g|=  8.99900D-01\n",
      "\n",
      "At iterate    1    f=  5.08910D+00    |proj g|=  2.03393D-05\n",
      "\n",
      "At iterate    2    f=  5.08908D+00    |proj g|=  1.62537D-05\n",
      "\n",
      "At iterate    3    f=  5.08903D+00    |proj g|=  7.10542D-07\n",
      "\n",
      "           * * *\n",
      "\n",
      "Tit   = total number of iterations\n",
      "Tnf   = total number of function evaluations\n",
      "Tnint = total number of segments explored during Cauchy searches\n",
      "Skip  = number of BFGS updates skipped\n",
      "Nact  = number of active bounds at final generalized Cauchy point\n",
      "Projg = norm of the final projected gradient\n",
      "F     = final function value\n",
      "\n",
      "           * * *\n",
      "\n",
      "   N    Tit     Tnf  Tnint  Skip  Nact     Projg        F\n",
      "    2      3     13      4     0     1   7.105D-07   5.089D+00\n",
      "  F =   5.0890315718923373     \n",
      "\n",
      "CONVERGENCE: NORM_OF_PROJECTED_GRADIENT_<=_PGTOL            \n"
     ]
    }
   ],
   "source": [
    "# simple exp smoothing: this is similar with the above naive methods \n",
    "# in that it produces the same forecasts no matter how far away \n",
    "# we want to look into\n",
    "sim_exp = sm.tsa.ETSModel(price_train, error='add').fit()\n",
    "# use forecast method of the `ETSResults` object for out-of-sample forecasting\n",
    "price_pred_sim = sim_exp.forecast(steps=N_test)"
   ]
  },
  {
   "cell_type": "code",
   "execution_count": 44,
   "id": "loaded-liquid",
   "metadata": {
    "ExecuteTime": {
     "end_time": "2022-02-17T15:27:19.128110Z",
     "start_time": "2022-02-17T15:27:19.096277Z"
    }
   },
   "outputs": [
    {
     "name": "stdout",
     "output_type": "stream",
     "text": [
      "RUNNING THE L-BFGS-B CODE\n",
      "\n",
      "           * * *\n",
      "\n",
      "Machine precision = 2.220D-16\n",
      " N =            4     M =           10\n",
      "\n",
      "At X0         0 variables are exactly at the bounds\n",
      "\n",
      "At iterate    0    f=  5.81348D+00    |proj g|=  1.38620D+00\n",
      "\n",
      "At iterate    1    f=  5.80272D+00    |proj g|=  1.51764D+00\n",
      "\n",
      "At iterate    2    f=  5.73739D+00    |proj g|=  8.55454D-01\n",
      "\n",
      "At iterate    3    f=  5.55645D+00    |proj g|=  2.03542D+00\n",
      "\n",
      "At iterate    4    f=  5.40534D+00    |proj g|=  3.12272D+00\n",
      "\n",
      "At iterate    5    f=  5.14461D+00    |proj g|=  1.05110D+00\n",
      "\n",
      "At iterate    6    f=  5.10002D+00    |proj g|=  8.72173D-01\n",
      "\n",
      "At iterate    7    f=  5.07525D+00    |proj g|=  5.14858D-01\n",
      "\n",
      "At iterate    8    f=  5.07278D+00    |proj g|=  4.60611D-01\n",
      "\n",
      "At iterate    9    f=  5.07014D+00    |proj g|=  6.77073D-02\n",
      "\n",
      "At iterate   10    f=  5.06984D+00    |proj g|=  1.10954D-01\n",
      "\n",
      "At iterate   11    f=  5.06966D+00    |proj g|=  5.55864D-02\n",
      "\n",
      "At iterate   12    f=  5.06964D+00    |proj g|=  1.35811D-02\n",
      "\n",
      "At iterate   13    f=  5.06964D+00    |proj g|=  7.26974D-04\n",
      "\n",
      "At iterate   14    f=  5.06964D+00    |proj g|=  6.85674D-05\n",
      "\n",
      "At iterate   15    f=  5.06964D+00    |proj g|=  2.99316D-05\n",
      "\n",
      "           * * *\n",
      "\n",
      "Tit   = total number of iterations\n",
      "Tnf   = total number of function evaluations\n",
      "Tnint = total number of segments explored during Cauchy searches\n",
      "Skip  = number of BFGS updates skipped\n",
      "Nact  = number of active bounds at final generalized Cauchy point\n",
      "Projg = norm of the final projected gradient\n",
      "F     = final function value\n",
      "\n",
      "           * * *\n",
      "\n",
      "   N    Tit     Tnf  Tnint  Skip  Nact     Projg        F\n",
      "    4     15     24     17     0     1   2.993D-05   5.070D+00\n",
      "  F =   5.0696425012522202     \n",
      "\n",
      "CONVERGENCE: REL_REDUCTION_OF_F_<=_FACTR*EPSMCH             \n"
     ]
    }
   ],
   "source": [
    "# Holt's method: exp smoothing w/ trend\n",
    "holt_exp = sm.tsa.ETSModel(price_train, error='add', trend='mul').fit()\n",
    "price_pred_holt = holt_exp.forecast(steps=N_test)"
   ]
  },
  {
   "cell_type": "code",
   "execution_count": 45,
   "id": "immune-timber",
   "metadata": {
    "ExecuteTime": {
     "end_time": "2022-02-17T15:27:20.758313Z",
     "start_time": "2022-02-17T15:27:19.129813Z"
    },
    "scrolled": true
   },
   "outputs": [
    {
     "name": "stdout",
     "output_type": "stream",
     "text": [
      "RUNNING THE L-BFGS-B CODE\n",
      "\n",
      "           * * *\n",
      "\n",
      "Machine precision = 2.220D-16\n",
      " N =           56     M =           10\n",
      "\n",
      "At X0         0 variables are exactly at the bounds\n",
      "\n",
      "At iterate    0    f=  5.86015D+00    |proj g|=  8.99900D-01\n",
      "\n",
      "At iterate    1    f=  5.75969D+00    |proj g|=  6.53766D+00\n",
      "\n",
      "At iterate    2    f=  5.50803D+00    |proj g|=  3.02498D+00\n",
      "\n",
      "At iterate    3    f=  5.35173D+00    |proj g|=  1.05286D+00\n",
      "\n",
      "At iterate    4    f=  5.24304D+00    |proj g|=  1.60787D+00\n",
      "\n",
      "At iterate    5    f=  5.13147D+00    |proj g|=  1.13160D+00\n",
      "\n",
      "At iterate    6    f=  5.02194D+00    |proj g|=  7.81835D-01\n",
      "\n",
      "At iterate    7    f=  4.95173D+00    |proj g|=  8.80154D-01\n",
      "\n",
      "At iterate    8    f=  4.93947D+00    |proj g|=  8.91153D-01\n",
      "\n",
      "At iterate    9    f=  4.92937D+00    |proj g|=  2.02236D-01\n",
      "\n",
      "At iterate   10    f=  4.92547D+00    |proj g|=  2.23058D-01\n",
      "\n",
      "At iterate   11    f=  4.92052D+00    |proj g|=  3.15433D-01\n",
      "\n",
      "At iterate   12    f=  4.91599D+00    |proj g|=  3.12631D-01\n",
      "\n",
      "At iterate   13    f=  4.91252D+00    |proj g|=  2.58608D-01\n",
      "\n",
      "At iterate   14    f=  4.91009D+00    |proj g|=  1.46963D-01\n",
      "\n",
      "At iterate   15    f=  4.90838D+00    |proj g|=  1.03238D-01\n",
      "\n",
      "At iterate   16    f=  4.90646D+00    |proj g|=  1.47870D-01\n",
      "\n",
      "At iterate   17    f=  4.90493D+00    |proj g|=  2.05011D-01\n",
      "\n",
      "At iterate   18    f=  4.90382D+00    |proj g|=  9.73186D-02\n",
      "\n",
      "At iterate   19    f=  4.90291D+00    |proj g|=  7.07582D-02\n",
      "\n",
      "At iterate   20    f=  4.90224D+00    |proj g|=  8.19799D-02\n",
      "\n",
      "At iterate   21    f=  4.90173D+00    |proj g|=  1.47580D-01\n",
      "\n",
      "At iterate   22    f=  4.90127D+00    |proj g|=  6.38308D-02\n",
      "\n",
      "At iterate   23    f=  4.90100D+00    |proj g|=  5.96443D-02\n",
      "\n",
      "At iterate   24    f=  4.90050D+00    |proj g|=  5.94384D-02\n",
      "\n",
      "At iterate   25    f=  4.90022D+00    |proj g|=  1.37070D-01\n",
      "\n",
      "At iterate   26    f=  4.89966D+00    |proj g|=  5.75302D-02\n",
      "\n",
      "At iterate   27    f=  4.89944D+00    |proj g|=  3.30060D-02\n",
      "\n",
      "At iterate   28    f=  4.89916D+00    |proj g|=  4.47754D-02\n",
      "\n",
      "At iterate   29    f=  4.89870D+00    |proj g|=  1.03721D-01\n",
      "\n",
      "At iterate   30    f=  4.89813D+00    |proj g|=  1.58380D-01\n",
      "\n",
      "At iterate   31    f=  4.89753D+00    |proj g|=  7.08869D-02\n",
      "\n",
      "At iterate   32    f=  4.89717D+00    |proj g|=  4.34423D-02\n",
      "\n",
      "At iterate   33    f=  4.89703D+00    |proj g|=  4.02140D-02\n",
      "\n",
      "At iterate   34    f=  4.89690D+00    |proj g|=  5.68357D-02\n",
      "\n",
      "At iterate   35    f=  4.89681D+00    |proj g|=  2.08870D-02\n",
      "\n",
      "At iterate   36    f=  4.89676D+00    |proj g|=  2.24990D-02\n",
      "\n",
      "At iterate   37    f=  4.89669D+00    |proj g|=  2.26406D-02\n",
      "\n",
      "At iterate   38    f=  4.89663D+00    |proj g|=  6.32327D-02\n",
      "\n",
      "At iterate   39    f=  4.89656D+00    |proj g|=  1.99028D-02\n",
      "\n",
      "At iterate   40    f=  4.89652D+00    |proj g|=  1.49745D-02\n",
      "\n",
      "At iterate   41    f=  4.89650D+00    |proj g|=  1.37083D-02\n",
      "\n",
      "At iterate   42    f=  4.89648D+00    |proj g|=  1.46380D-02\n",
      "\n",
      "At iterate   43    f=  4.89646D+00    |proj g|=  1.76395D-02\n",
      "\n",
      "At iterate   44    f=  4.89645D+00    |proj g|=  7.89910D-03\n",
      "\n",
      "At iterate   45    f=  4.89644D+00    |proj g|=  6.02434D-03\n",
      "\n",
      "At iterate   46    f=  4.89643D+00    |proj g|=  1.22996D-02\n",
      "\n",
      "At iterate   47    f=  4.89642D+00    |proj g|=  1.66847D-02\n",
      "\n",
      "At iterate   48    f=  4.89640D+00    |proj g|=  8.20926D-03\n",
      "\n",
      "At iterate   49    f=  4.89639D+00    |proj g|=  1.59069D-02\n",
      "\n",
      "At iterate   50    f=  4.89637D+00    |proj g|=  2.56476D-02\n",
      "\n",
      "At iterate   51    f=  4.89634D+00    |proj g|=  3.43438D-02\n",
      "\n",
      "At iterate   52    f=  4.89630D+00    |proj g|=  1.09099D-02\n",
      "\n",
      "At iterate   53    f=  4.89627D+00    |proj g|=  9.38476D-03\n",
      "\n",
      "At iterate   54    f=  4.89626D+00    |proj g|=  9.82485D-03\n",
      "\n",
      "At iterate   55    f=  4.89625D+00    |proj g|=  2.24484D-02\n",
      "\n",
      "At iterate   56    f=  4.89623D+00    |proj g|=  9.48326D-03\n",
      "\n",
      "At iterate   57    f=  4.89621D+00    |proj g|=  9.15161D-03\n",
      "\n",
      "At iterate   58    f=  4.89620D+00    |proj g|=  8.79847D-03\n",
      "\n",
      "At iterate   59    f=  4.89619D+00    |proj g|=  1.17057D-02\n",
      "\n",
      "At iterate   60    f=  4.89618D+00    |proj g|=  6.85052D-03\n",
      "\n",
      "At iterate   61    f=  4.89617D+00    |proj g|=  9.00933D-03\n",
      "\n",
      "At iterate   62    f=  4.89616D+00    |proj g|=  1.33759D-02\n",
      "\n",
      "At iterate   63    f=  4.89614D+00    |proj g|=  1.39581D-02\n",
      "\n",
      "At iterate   64    f=  4.89612D+00    |proj g|=  9.35110D-03\n",
      "\n",
      "At iterate   65    f=  4.89610D+00    |proj g|=  1.02509D-02\n",
      "\n",
      "At iterate   66    f=  4.89609D+00    |proj g|=  9.82592D-03\n",
      "\n",
      "At iterate   67    f=  4.89609D+00    |proj g|=  7.26814D-03\n",
      "\n",
      "At iterate   68    f=  4.89608D+00    |proj g|=  6.16236D-03\n",
      "\n",
      "At iterate   69    f=  4.89608D+00    |proj g|=  1.20661D-02\n",
      "\n",
      "At iterate   70    f=  4.89608D+00    |proj g|=  4.23448D-03\n",
      "\n",
      "At iterate   71    f=  4.89608D+00    |proj g|=  2.56968D-03\n",
      "\n",
      "At iterate   72    f=  4.89607D+00    |proj g|=  3.79847D-03\n",
      "\n",
      "At iterate   73    f=  4.89607D+00    |proj g|=  7.28573D-03\n",
      "\n",
      "At iterate   74    f=  4.89607D+00    |proj g|=  2.09788D-03\n",
      "\n",
      "At iterate   75    f=  4.89607D+00    |proj g|=  2.70655D-03\n",
      "\n",
      "At iterate   76    f=  4.89607D+00    |proj g|=  2.71525D-03\n",
      "\n",
      "At iterate   77    f=  4.89607D+00    |proj g|=  7.80878D-03\n",
      "\n",
      "At iterate   78    f=  4.89607D+00    |proj g|=  9.61276D-04\n",
      "\n",
      "At iterate   79    f=  4.89607D+00    |proj g|=  7.38964D-04\n",
      "\n",
      "At iterate   80    f=  4.89607D+00    |proj g|=  8.26006D-04\n",
      "\n",
      "At iterate   81    f=  4.89607D+00    |proj g|=  3.81162D-03\n",
      "\n",
      "At iterate   82    f=  4.89607D+00    |proj g|=  1.31033D-03\n",
      "\n",
      "At iterate   83    f=  4.89607D+00    |proj g|=  6.08757D-04\n",
      "\n",
      "At iterate   84    f=  4.89607D+00    |proj g|=  1.06448D-03\n",
      "\n",
      "At iterate   85    f=  4.89607D+00    |proj g|=  1.13305D-03\n",
      "\n",
      "At iterate   86    f=  4.89607D+00    |proj g|=  1.22613D-03\n",
      "\n",
      "At iterate   87    f=  4.89607D+00    |proj g|=  5.86197D-04\n",
      "\n",
      "At iterate   88    f=  4.89607D+00    |proj g|=  5.86108D-04\n",
      "\n",
      "At iterate   89    f=  4.89607D+00    |proj g|=  1.25802D-03\n",
      "\n",
      "At iterate   90    f=  4.89607D+00    |proj g|=  1.48281D-03\n",
      "\n",
      "At iterate   91    f=  4.89607D+00    |proj g|=  1.04858D-03\n",
      "\n",
      "At iterate   92    f=  4.89607D+00    |proj g|=  2.98579D-03\n",
      "\n",
      "At iterate   93    f=  4.89607D+00    |proj g|=  1.00009D-03\n",
      "\n",
      "At iterate   94    f=  4.89607D+00    |proj g|=  1.20659D-03\n",
      "\n",
      "At iterate   95    f=  4.89607D+00    |proj g|=  1.64153D-03\n",
      "\n",
      "At iterate   96    f=  4.89607D+00    |proj g|=  7.56728D-04\n",
      "\n",
      "At iterate   97    f=  4.89607D+00    |proj g|=  8.87912D-04\n",
      "\n",
      "At iterate   98    f=  4.89607D+00    |proj g|=  8.89244D-04\n",
      "\n",
      "At iterate   99    f=  4.89607D+00    |proj g|=  1.54756D-03\n",
      "\n",
      "At iterate  100    f=  4.89607D+00    |proj g|=  8.65619D-04\n",
      "\n",
      "At iterate  101    f=  4.89607D+00    |proj g|=  5.86108D-04\n",
      "\n",
      "At iterate  102    f=  4.89607D+00    |proj g|=  8.28404D-04\n",
      "\n",
      "At iterate  103    f=  4.89607D+00    |proj g|=  1.68052D-03\n",
      "\n",
      "At iterate  104    f=  4.89607D+00    |proj g|=  1.21183D-03\n",
      "\n",
      "At iterate  105    f=  4.89607D+00    |proj g|=  1.29745D-03\n",
      "\n",
      "At iterate  106    f=  4.89607D+00    |proj g|=  1.63229D-03\n",
      "\n",
      "At iterate  107    f=  4.89607D+00    |proj g|=  3.51701D-03\n",
      "\n",
      "At iterate  108    f=  4.89607D+00    |proj g|=  1.86624D-03\n",
      "\n",
      "At iterate  109    f=  4.89607D+00    |proj g|=  1.62430D-03\n",
      "\n",
      "At iterate  110    f=  4.89607D+00    |proj g|=  2.24452D-03\n",
      "\n",
      "At iterate  111    f=  4.89607D+00    |proj g|=  2.50182D-03\n",
      "\n",
      "At iterate  112    f=  4.89606D+00    |proj g|=  7.45333D-03\n",
      "\n",
      "At iterate  113    f=  4.89606D+00    |proj g|=  4.48752D-03\n",
      "\n",
      "At iterate  114    f=  4.89606D+00    |proj g|=  3.17311D-03\n",
      "\n",
      "At iterate  115    f=  4.89606D+00    |proj g|=  2.76748D-03\n",
      "\n",
      "At iterate  116    f=  4.89606D+00    |proj g|=  6.28146D-03\n",
      "\n",
      "At iterate  117    f=  4.89606D+00    |proj g|=  3.58806D-03\n",
      "\n",
      "At iterate  118    f=  4.89605D+00    |proj g|=  9.61302D-03\n",
      "\n",
      "At iterate  119    f=  4.89605D+00    |proj g|=  3.23901D-03\n",
      "\n",
      "At iterate  120    f=  4.89605D+00    |proj g|=  2.93836D-03\n",
      "\n",
      "At iterate  121    f=  4.89605D+00    |proj g|=  5.63931D-03\n",
      "\n",
      "At iterate  122    f=  4.89605D+00    |proj g|=  8.25873D-03\n",
      "\n",
      "At iterate  123    f=  4.89604D+00    |proj g|=  6.92220D-03\n",
      "\n",
      "At iterate  124    f=  4.89604D+00    |proj g|=  3.86846D-03\n",
      "\n",
      "At iterate  125    f=  4.89604D+00    |proj g|=  7.37366D-03\n",
      "\n",
      "At iterate  126    f=  4.89603D+00    |proj g|=  9.27827D-03\n",
      "\n",
      "At iterate  127    f=  4.89602D+00    |proj g|=  1.84389D-02\n",
      "\n",
      "At iterate  128    f=  4.89602D+00    |proj g|=  9.23075D-03\n",
      "\n",
      "At iterate  129    f=  4.89601D+00    |proj g|=  4.58416D-03\n",
      "\n",
      "At iterate  130    f=  4.89601D+00    |proj g|=  5.52474D-03\n",
      "\n",
      "At iterate  131    f=  4.89601D+00    |proj g|=  1.18987D-02\n",
      "\n",
      "At iterate  132    f=  4.89601D+00    |proj g|=  5.49170D-03\n",
      "\n",
      "At iterate  133    f=  4.89600D+00    |proj g|=  2.16529D-03\n",
      "\n",
      "At iterate  134    f=  4.89600D+00    |proj g|=  2.58469D-03\n",
      "\n",
      "At iterate  135    f=  4.89600D+00    |proj g|=  5.57341D-03\n",
      "\n",
      "At iterate  136    f=  4.89600D+00    |proj g|=  7.59277D-03\n",
      "\n",
      "At iterate  137    f=  4.89600D+00    |proj g|=  5.63514D-03\n",
      "\n",
      "At iterate  138    f=  4.89599D+00    |proj g|=  9.48077D-03\n",
      "\n",
      "At iterate  139    f=  4.89599D+00    |proj g|=  7.59783D-03\n",
      "\n",
      "At iterate  140    f=  4.89598D+00    |proj g|=  1.03277D-02\n",
      "\n",
      "At iterate  141    f=  4.89596D+00    |proj g|=  2.13103D-02\n",
      "\n",
      "At iterate  142    f=  4.89594D+00    |proj g|=  1.57036D-02\n",
      "\n",
      "At iterate  143    f=  4.89593D+00    |proj g|=  9.96279D-03\n",
      "\n",
      "At iterate  144    f=  4.89590D+00    |proj g|=  1.05964D-02\n",
      "\n",
      "At iterate  145    f=  4.89588D+00    |proj g|=  1.80464D-02\n",
      "\n",
      "At iterate  146    f=  4.89584D+00    |proj g|=  1.13920D-02\n",
      "\n",
      "At iterate  147    f=  4.89581D+00    |proj g|=  2.87856D-02\n",
      "\n",
      "At iterate  148    f=  4.89577D+00    |proj g|=  1.26296D-02\n",
      "\n",
      "At iterate  149    f=  4.89574D+00    |proj g|=  1.31862D-02\n",
      "\n",
      "At iterate  150    f=  4.89571D+00    |proj g|=  1.68224D-02\n",
      "\n",
      "At iterate  151    f=  4.89568D+00    |proj g|=  3.51629D-02\n",
      "\n",
      "At iterate  152    f=  4.89564D+00    |proj g|=  1.48106D-02\n",
      "\n",
      "At iterate  153    f=  4.89562D+00    |proj g|=  1.70170D-02\n",
      "\n",
      "At iterate  154    f=  4.89559D+00    |proj g|=  2.54437D-02\n",
      "\n",
      "At iterate  155    f=  4.89556D+00    |proj g|=  3.86366D-02\n",
      "\n",
      "At iterate  156    f=  4.89551D+00    |proj g|=  1.96524D-02\n",
      "\n",
      "At iterate  157    f=  4.89543D+00    |proj g|=  1.80801D-02\n",
      "\n",
      "At iterate  158    f=  4.89538D+00    |proj g|=  2.20918D-02\n",
      "\n",
      "At iterate  159    f=  4.89529D+00    |proj g|=  3.89734D-02\n",
      "\n",
      "At iterate  160    f=  4.89525D+00    |proj g|=  4.54019D-02\n",
      "\n",
      "At iterate  161    f=  4.89517D+00    |proj g|=  1.57048D-02\n",
      "\n",
      "At iterate  162    f=  4.89512D+00    |proj g|=  2.50236D-02\n",
      "\n",
      "At iterate  163    f=  4.89502D+00    |proj g|=  4.92780D-02\n",
      "\n",
      "At iterate  164    f=  4.89487D+00    |proj g|=  5.51993D-02\n",
      "\n",
      "At iterate  165    f=  4.89470D+00    |proj g|=  3.26073D-02\n"
     ]
    },
    {
     "name": "stdout",
     "output_type": "stream",
     "text": [
      "\n",
      "At iterate  166    f=  4.89450D+00    |proj g|=  3.04874D-02\n",
      "\n",
      "At iterate  167    f=  4.89410D+00    |proj g|=  1.05508D-01\n",
      "\n",
      "At iterate  168    f=  4.89368D+00    |proj g|=  8.84597D-02\n",
      "\n",
      "At iterate  169    f=  4.89293D+00    |proj g|=  1.03367D-01\n",
      "\n",
      "At iterate  170    f=  4.89215D+00    |proj g|=  2.47419D-01\n",
      "\n",
      "At iterate  171    f=  4.89081D+00    |proj g|=  9.01233D-02\n",
      "\n",
      "At iterate  172    f=  4.88956D+00    |proj g|=  1.13601D-01\n",
      "\n",
      "At iterate  173    f=  4.88759D+00    |proj g|=  1.41815D-01\n",
      "\n",
      "At iterate  174    f=  4.88563D+00    |proj g|=  4.51349D-01\n",
      "\n",
      "At iterate  175    f=  4.88209D+00    |proj g|=  1.46571D-01\n",
      "\n",
      "At iterate  176    f=  4.88054D+00    |proj g|=  6.41428D-02\n",
      "\n",
      "At iterate  177    f=  4.87964D+00    |proj g|=  9.82820D-02\n",
      "\n",
      "At iterate  178    f=  4.87859D+00    |proj g|=  1.24620D-01\n",
      "\n",
      "At iterate  179    f=  4.87761D+00    |proj g|=  1.08686D-01\n",
      "\n",
      "At iterate  180    f=  4.87685D+00    |proj g|=  5.45416D-02\n",
      "\n",
      "At iterate  181    f=  4.87638D+00    |proj g|=  7.86046D-02\n",
      "\n",
      "At iterate  182    f=  4.87576D+00    |proj g|=  8.89409D-02\n",
      "\n",
      "At iterate  183    f=  4.87511D+00    |proj g|=  1.73772D-01\n",
      "\n",
      "At iterate  184    f=  4.87425D+00    |proj g|=  7.01226D-02\n",
      "\n",
      "At iterate  185    f=  4.87361D+00    |proj g|=  5.67143D-02\n",
      "\n",
      "At iterate  186    f=  4.87305D+00    |proj g|=  9.09603D-02\n",
      "\n",
      "At iterate  187    f=  4.87233D+00    |proj g|=  1.19684D-01\n",
      "\n",
      "At iterate  188    f=  4.87147D+00    |proj g|=  7.80236D-02\n",
      "\n",
      "At iterate  189    f=  4.87056D+00    |proj g|=  1.62778D-01\n",
      "\n",
      "At iterate  190    f=  4.86970D+00    |proj g|=  8.88788D-02\n",
      "\n",
      "At iterate  191    f=  4.86900D+00    |proj g|=  9.48568D-02\n",
      "\n",
      "At iterate  192    f=  4.86730D+00    |proj g|=  1.10875D-01\n",
      "\n",
      "At iterate  193    f=  4.86608D+00    |proj g|=  2.31773D-01\n",
      "\n",
      "At iterate  194    f=  4.86415D+00    |proj g|=  1.11334D-01\n",
      "\n",
      "At iterate  195    f=  4.86270D+00    |proj g|=  8.14225D-02\n",
      "\n",
      "At iterate  196    f=  4.86200D+00    |proj g|=  6.98338D-02\n",
      "\n",
      "At iterate  197    f=  4.86178D+00    |proj g|=  7.53348D-02\n",
      "\n",
      "At iterate  198    f=  4.86153D+00    |proj g|=  4.15826D-02\n",
      "\n",
      "At iterate  199    f=  4.86137D+00    |proj g|=  3.33417D-02\n",
      "\n",
      "At iterate  200    f=  4.86119D+00    |proj g|=  7.71537D-02\n",
      "\n",
      "           * * *\n",
      "\n",
      "Tit   = total number of iterations\n",
      "Tnf   = total number of function evaluations\n",
      "Tnint = total number of segments explored during Cauchy searches\n",
      "Skip  = number of BFGS updates skipped\n",
      "Nact  = number of active bounds at final generalized Cauchy point\n",
      "Projg = norm of the final projected gradient\n",
      "F     = final function value\n",
      "\n",
      "           * * *\n",
      "\n",
      "   N    Tit     Tnf  Tnint  Skip  Nact     Projg        F\n",
      "   56    200    208    202     0     2   7.715D-02   4.861D+00\n",
      "  F =   4.8611890739928585     \n",
      "\n",
      "STOP: TOTAL NO. of ITERATIONS REACHED LIMIT                 \n"
     ]
    },
    {
     "name": "stderr",
     "output_type": "stream",
     "text": [
      "/Users/zhiyzuo/.virtualenvs/py3/lib/python3.9/site-packages/statsmodels/base/model.py:604: ConvergenceWarning: Maximum Likelihood optimization failed to converge. Check mle_retvals\n",
      "  warnings.warn(\"Maximum Likelihood optimization failed to \"\n"
     ]
    }
   ],
   "source": [
    "# Holt-Winter's method: exp smoothing w/ trend and seasonality\n",
    "winter_exp = sm.tsa.ETSModel(price_train, error='add',\n",
    "                             trend='mul',seasonal='mul').fit(maxiter=200)\n",
    "price_pred_winter = winter_exp.forecast(steps=N_test)"
   ]
  },
  {
   "cell_type": "code",
   "execution_count": 46,
   "id": "exclusive-royal",
   "metadata": {
    "ExecuteTime": {
     "end_time": "2022-02-17T15:27:20.762637Z",
     "start_time": "2022-02-17T15:27:20.759942Z"
    }
   },
   "outputs": [],
   "source": [
    "pred_dict = {'Naive': price_pred_naive,\n",
    "             'Simple': price_pred_sim,\n",
    "             'Holt': price_pred_holt,\n",
    "             'Winter': price_pred_winter,\n",
    "            }"
   ]
  },
  {
   "cell_type": "code",
   "execution_count": 47,
   "id": "competent-pavilion",
   "metadata": {
    "ExecuteTime": {
     "end_time": "2022-02-17T15:27:20.768655Z",
     "start_time": "2022-02-17T15:27:20.764766Z"
    }
   },
   "outputs": [],
   "source": [
    "pred_args = {'Naive': dict(marker='.', color='pink', s=50),\n",
    "             'Simple': dict(marker='.', color='navy', s=50),\n",
    "             'Holt': dict(marker='.', color='orange', s=50),\n",
    "             'Winter': dict(marker='.', color='darkgreen', s=50),\n",
    "            }"
   ]
  },
  {
   "cell_type": "code",
   "execution_count": 48,
   "id": "supported-southeast",
   "metadata": {
    "ExecuteTime": {
     "end_time": "2022-02-17T15:27:21.052455Z",
     "start_time": "2022-02-17T15:27:20.770795Z"
    }
   },
   "outputs": [
    {
     "data": {
      "text/plain": [
       "<matplotlib.legend.Legend at 0x13b6c9a60>"
      ]
     },
     "execution_count": 48,
     "metadata": {},
     "output_type": "execute_result"
    },
    {
     "data": {
      "image/png": "[encoded data removed]",
      "text/plain": [
       "<Figure size 1080x432 with 1 Axes>"
      ]
     },
     "metadata": {
      "needs_background": "light"
     },
     "output_type": "display_data"
    }
   ],
   "source": [
    "fig, ax = plt.subplots(figsize=[15, 6])\n",
    "ax.scatter(price_train.index, price_train.values,\n",
    "           marker='.', s=20,\n",
    "           color='k', label='Train')\n",
    "ax.scatter(price_test.index, price_test.values,\n",
    "           marker='.', s=30,\n",
    "           color='r', label='Test')\n",
    "for mod, mod_pred in pred_dict.items():\n",
    "    ax.scatter(price_test.index, mod_pred,\n",
    "               label=mod,\n",
    "               **pred_args[mod])\n",
    "ax.axvline(x=price_train.index[-1], ls='--', color='gray')\n",
    "ax.legend(ncol=3, prop={'size': 17})"
   ]
  },
  {
   "cell_type": "markdown",
   "id": "58f6021a",
   "metadata": {},
   "source": [
    "Quick exercise: can you compare their performance by computing their (root) mean squared errors?\n",
    "- HINT: use `sklearn.metrics`"
   ]
  },
  {
   "cell_type": "markdown",
   "id": "under-mortality",
   "metadata": {},
   "source": [
    "## Cross validation in time series: roll-forward"
   ]
  },
  {
   "cell_type": "markdown",
   "id": "cooperative-booth",
   "metadata": {},
   "source": [
    "The classic cross validation, as we mention earlier, cannot be applied directly to the time series forecasting context. Nonethless, we can make a minor tweak -- instead of shuffling regardless of temporal order, we can _roll forward_ to always use past data for training and future data (i.e., ahead of time) for testing."
   ]
  },
  {
   "cell_type": "markdown",
   "id": "d9dffd94",
   "metadata": {},
   "source": [
    "Whereas `sklearn` does not provide models for time series prediction, they offer an API [`TimeSeriesSplit`](https://scikit-learn.org/stable/modules/generated/sklearn.model_selection.TimeSeriesSplit.html) to help split the data for forecasting:"
   ]
  },
  {
   "cell_type": "code",
   "execution_count": 49,
   "id": "0d8ec781",
   "metadata": {
    "ExecuteTime": {
     "end_time": "2022-02-17T15:27:21.185572Z",
     "start_time": "2022-02-17T15:27:21.053965Z"
    }
   },
   "outputs": [],
   "source": [
    "from sklearn import model_selection"
   ]
  },
  {
   "cell_type": "code",
   "execution_count": 118,
   "id": "ab4852ed",
   "metadata": {
    "ExecuteTime": {
     "end_time": "2022-02-17T16:39:46.030500Z",
     "start_time": "2022-02-17T16:39:46.025847Z"
    }
   },
   "outputs": [
    {
     "data": {
      "text/plain": [
       "TimeSeriesSplit(gap=0, max_train_size=None, n_splits=3, test_size=30)"
      ]
     },
     "execution_count": 118,
     "metadata": {},
     "output_type": "execute_result"
    }
   ],
   "source": [
    "N_folds = 3\n",
    "tssplit = model_selection.TimeSeriesSplit(n_splits=N_folds,\n",
    "                                          test_size=30)\n",
    "                                         \n",
    "tssplit"
   ]
  },
  {
   "cell_type": "code",
   "execution_count": 119,
   "id": "47fde075",
   "metadata": {
    "ExecuteTime": {
     "end_time": "2022-02-17T16:39:47.174699Z",
     "start_time": "2022-02-17T16:39:47.170403Z"
    }
   },
   "outputs": [
    {
     "name": "stdout",
     "output_type": "stream",
     "text": [
      "Fold 0: Train from [0] to [170]; Test from [171] to [200]\n",
      "Fold 1: Train from [0] to [200]; Test from [201] to [230]\n",
      "Fold 2: Train from [0] to [230]; Test from [231] to [260]\n"
     ]
    }
   ],
   "source": [
    "print_str = 'Fold %i: Train from [%i] to [%i]; Test from [%i] to [%i]'\n",
    "for i_fold, (train_index, test_index) in enumerate(tssplit.split(closing_price_week)):\n",
    "    print(print_str%(i_fold, train_index[0], train_index[-1],\n",
    "                     test_index[0], test_index[-1]))"
   ]
  },
  {
   "cell_type": "markdown",
   "id": "260beaec",
   "metadata": {},
   "source": [
    "Then we can make use of this splitting function for convenient cross validation for forecasting performance assessment:"
   ]
  },
  {
   "cell_type": "code",
   "execution_count": 121,
   "id": "f2aabd10",
   "metadata": {
    "ExecuteTime": {
     "end_time": "2022-02-17T16:40:11.420587Z",
     "start_time": "2022-02-17T16:40:07.625189Z"
    }
   },
   "outputs": [
    {
     "name": "stderr",
     "output_type": "stream",
     "text": [
      "/Users/zhiyzuo/.virtualenvs/py3/lib/python3.9/site-packages/statsmodels/base/model.py:604: ConvergenceWarning: Maximum Likelihood optimization failed to converge. Check mle_retvals\n",
      "  warnings.warn(\"Maximum Likelihood optimization failed to \"\n"
     ]
    },
    {
     "data": {
      "image/png": "[encoded data removed]",
      "text/plain": [
       "<Figure size 720x648 with 3 Axes>"
      ]
     },
     "metadata": {
      "needs_background": "light"
     },
     "output_type": "display_data"
    }
   ],
   "source": [
    "fig, ax_arr = plt.subplots(figsize=[10, 3*N_folds],\n",
    "                           sharex=True, sharey=True,\n",
    "                           nrows=N_folds)\n",
    "for i_fold, (train_index, test_index) in enumerate(tssplit.split(closing_price_week)):\n",
    "    # modeling\n",
    "    price_train = closing_price_week.iloc[train_index]\n",
    "    price_test = closing_price_week.iloc[test_index]\n",
    "    winter_exp = sm.tsa.ETSModel(price_train, error='add',\n",
    "                                 trend='mul',seasonal='add').fit(maxiter=200, disp=False)\n",
    "    price_pred = winter_exp.forecast(steps=test_index.size)\n",
    "    # visualization\n",
    "    ax = ax_arr[i_fold]\n",
    "    ax.scatter(price_train.index, price_train.values,\n",
    "               marker='.', s=20,\n",
    "               color='k', label='Train')\n",
    "    ax.scatter(price_test.index, price_test.values,\n",
    "               marker='.', s=30,\n",
    "               color='r', label='Test')\n",
    "    ax.scatter(price_pred.index, price_pred.values,\n",
    "               marker='.', s=30,\n",
    "               color='darkgreen', label='Forecast')\n",
    "ax.legend(prop={'size': 14})\n",
    "fig.tight_layout()"
   ]
  },
  {
   "cell_type": "markdown",
   "id": "distinguished-russell",
   "metadata": {},
   "source": [
    "---"
   ]
  },
  {
   "cell_type": "markdown",
   "id": "d3fa3cd4",
   "metadata": {},
   "source": [
    "# Summary"
   ]
  },
  {
   "cell_type": "markdown",
   "id": "worldwide-header",
   "metadata": {},
   "source": [
    "Lastly, let's look back at these models. You may find that "
   ]
  },
  {
   "cell_type": "markdown",
   "id": "given-arbor",
   "metadata": {},
   "source": [
    "You are also suggested to read more about evaluation metrics of time series on your own. As always, _one size does not fit all_. You may want to choose the proper metric by taking into consideration your use case and your business goal."
   ]
  },
  {
   "cell_type": "markdown",
   "id": "3153d3e1",
   "metadata": {},
   "source": [
    "BTW, there is yet another Python package `sktime` written in a similar flavor with `sklearn`. You may find the example applications [here](https://github.com/alan-turing-institute/sktime/blob/f6f2bb94acc1bf35417a56fd46e2bd20e9742d82/examples/01_forecasting.ipynb)."
   ]
  },
  {
   "cell_type": "markdown",
   "id": "5568a48d",
   "metadata": {},
   "source": [
    "---"
   ]
  },
  {
   "cell_type": "markdown",
   "id": "nervous-comparative",
   "metadata": {},
   "source": [
    "# Tutorial Exercise"
   ]
  },
  {
   "cell_type": "markdown",
   "id": "sharing-provincial",
   "metadata": {},
   "source": [
    "Choose a dataset from this [link](https://www.forecastingbook.com/resources/data-and-code) and conduct the following exercise. Use the codes in the lecture notes for your reference (please create a new empty Jupyter notebook for this exercise):\n",
    "1. Visualize the time series using a line plot.\n",
    "2. Use `statsmodels` to visualize the autocorrelation plot.\n",
    "3. In combination with the line plot in step 1 and the KPSS test, explain whether this time series of your choice is stationary or not.\n",
    "4. Use the Holt-Winter's method to forecast. Use fixed partition such that the training consists of 90% of the time and the testing set. Visualize the outcome:\n",
    "    1. Observed and predicted time series.\n",
    "    2. Forecast errors in both training and testing samples."
   ]
  },
  {
   "cell_type": "markdown",
   "id": "minimal-shuttle",
   "metadata": {},
   "source": [
    "---"
   ]
  },
  {
   "cell_type": "markdown",
   "id": "cubic-glance",
   "metadata": {},
   "source": [
    "# Reference"
   ]
  },
  {
   "cell_type": "markdown",
   "id": "collected-fellowship",
   "metadata": {},
   "source": [
    "- Hyndman, R. J., & Athanasopoulos, G. (2018). Forecasting: principles and practice. OTexts.\n",
    "- Shmueli, G., & Lichtendahl Jr, K. C. (2016). Practical time series forecasting with R: A hands-on guide. Axelrod schnall publishers.\n",
    "- STAT 510: Applied Time Series Analytics. https://online.stat.psu.edu/stat510/"
   ]
  }
 ],
 "metadata": {
  "kernelspec": {
   "display_name": "Python 3 (ipykernel)",
   "language": "python",
   "name": "python3"
  },
  "language_info": {
   "codemirror_mode": {
    "name": "ipython",
    "version": 3
   },
   "file_extension": ".py",
   "mimetype": "text/x-python",
   "name": "python",
   "nbconvert_exporter": "python",
   "pygments_lexer": "ipython3",
   "version": "3.9.9"
  },
  "toc": {
   "base_numbering": 1,
   "nav_menu": {},
   "number_sections": true,
   "sideBar": true,
   "skip_h1_title": false,
   "title_cell": "Table of Contents",
   "title_sidebar": "Contents",
   "toc_cell": false,
   "toc_position": {
    "height": "calc(100% - 180px)",
    "left": "10px",
    "top": "150px",
    "width": "360.391px"
   },
   "toc_section_display": true,
   "toc_window_display": true
  }
 },
 "nbformat": 4,
 "nbformat_minor": 5
}
